{
 "cells": [
  {
   "cell_type": "code",
   "execution_count": 2,
   "metadata": {},
   "outputs": [],
   "source": [
    "import numpy as np\n",
    "import matplotlib.pyplot as plt\n",
    "import pandas as pd\n",
    "%matplotlib inline"
   ]
  },
  {
   "cell_type": "markdown",
   "metadata": {},
   "source": [
    "# Restricted Bolztman Machines\n",
    "\n",
    "Assume a RBM with $n_i$ input neurons, $\\mathbf{v} \\in \\mathbf{V} = [0,1]^{n_i}$, and $n_h$ hidden units, $\\mathbf{h} \\in \\mathbf{H} = [0,1]^{n_h}$. Observe that inputs and hidden units are binary. In this small setup $|\\mathbf{V}|=2^{n_i}$ and $|\\mathbf{H}|=2^{n_h}$. Normally, $\\mathbf{V}$ would have a very high dimension (images, etc.)\n",
    "\n",
    "\n",
    "![alt text](./imgs/rbm.png)\n",
    "\n",
    "a probability function over vectors $\\mathbf{h}$ and $\\mathbf{v}$ is defined through an energy function  $E(\\mathbf{v},\\mathbf{h})$ as follows\n",
    "\n",
    "$$E(\\mathbf{v},\\mathbf{h}) = - \\mathbf{h}^T \\mathbf{W} \\mathbf{v} - \\mathbf{c}^T\\mathbf{v} - \\mathbf{b}^T\\mathbf{h}$$\n",
    "$$p(\\mathbf{v}, \\mathbf{h}|\\theta) = \\frac{e^{-E(\\mathbf{v}, \\mathbf{h})}}{Z}$$\n",
    "\n",
    "with:\n",
    "\n",
    "- $\\mathbf{W} \\in \\mathbb{R}^{n_h \\times n_i}$, the weight matrix of connections between hidden and input neurons\n",
    "- $\\mathbf{c} \\in \\mathbb{R}^{n_i}$, the bias term for the input neurons\n",
    "- $\\mathbf{b} \\in \\mathbb{R}^{n_h}$, the bias term for the hidden neurons\n",
    "- $\\theta = [\\mathbf{W}, \\mathbf{c}, \\mathbf{b}]$\n",
    "- $Z = \\sum_{\\mathbf{v} \\in \\mathbf{V}, \\mathbf{h} \\in \\mathbf{H}} e^{-E(\\mathbf{v},\\mathbf{h})}$, normalization term usualy intractable to compute (in this very small setup we will still be able to compute it).\n",
    "\n",
    "by marginalising over $\\mathbf{h}$ we get:\n",
    "\n",
    "$$p(\\mathbf{v}|\\theta) =  \\sum_{\\mathbf{h}\\in \\mathbf{H}} p(\\mathbf{v}, \\mathbf{h}|\\theta) =  \\sum_{\\mathbf{h}\\in \\mathbf{H}} \\frac{e^{-E(\\mathbf{v}, \\mathbf{h})}}{Z} = \\frac{e^{-\\mathcal{F}(\\mathbf{v})}}{Z}$$\n",
    "\n",
    "\n",
    "where $\\mathcal{F}$ is the **free energy** for an input vector, and it is defined as\n",
    "\n",
    "\n",
    "$$\\mathcal{F}(\\mathbf{v}) = -\\Bigg[\\mathbf{c}^T \\mathbf{v} + \\sum_{j} log(1+e^{b_j+\\mathbf{W}_j\\mathbf{v}})\\Bigg]$$ \n",
    "\n",
    "note that, $j \\in [0,..,dim(H)-1]$, **surprisingly**, this ends up being a summatory over the number of hidden units.\n",
    "\n",
    "Therefore, \n",
    "\n",
    "$$p(\\mathbf{v}|\\theta) \\propto e^{-\\mathcal{F}(\\mathbf{v})}$$\n",
    "\n",
    "### Given a set of training data $\\mathbf{V}_{tr} \\subset \\mathbf{V}$, we want to obtain $\\theta = [\\mathbf{W}, \\mathbf{c}, \\mathbf{b]}$ so that the probability of the training set is as large as possible $\\rightarrow$ the free energy of the train data is as low as possible.\n",
    "\n",
    "\n",
    "See here for larger examples with TensorFlow: https://github.com/monsta-hd/boltzmann-machines"
   ]
  },
  {
   "cell_type": "markdown",
   "metadata": {},
   "source": [
    "## Example\n",
    "\n",
    "\n",
    "Assume a RBM with $4$ input neurons, $\\mathbf{v} \\in \\mathbf{V} = [0,1]^6$, and $3$ hidden units, $\\mathbf{h} \\in \\mathbf{H} = [0,1]^{5}$."
   ]
  },
  {
   "cell_type": "code",
   "execution_count": 3,
   "metadata": {},
   "outputs": [
    {
     "name": "stdout",
     "output_type": "stream",
     "text": [
      "All possible input values\n",
      "[[0 0 0 0 0 0]\n",
      " [0 0 0 0 0 1]\n",
      " [0 0 0 0 1 0]\n",
      " [0 0 0 0 1 1]\n",
      " [0 0 0 1 0 0]\n",
      " [0 0 0 1 0 1]\n",
      " [0 0 0 1 1 0]\n",
      " [0 0 0 1 1 1]\n",
      " [0 0 1 0 0 0]\n",
      " [0 0 1 0 0 1]\n",
      " [0 0 1 0 1 0]\n",
      " [0 0 1 0 1 1]\n",
      " [0 0 1 1 0 0]\n",
      " [0 0 1 1 0 1]\n",
      " [0 0 1 1 1 0]\n",
      " [0 0 1 1 1 1]\n",
      " [0 1 0 0 0 0]\n",
      " [0 1 0 0 0 1]\n",
      " [0 1 0 0 1 0]\n",
      " [0 1 0 0 1 1]\n",
      " [0 1 0 1 0 0]\n",
      " [0 1 0 1 0 1]\n",
      " [0 1 0 1 1 0]\n",
      " [0 1 0 1 1 1]\n",
      " [0 1 1 0 0 0]\n",
      " [0 1 1 0 0 1]\n",
      " [0 1 1 0 1 0]\n",
      " [0 1 1 0 1 1]\n",
      " [0 1 1 1 0 0]\n",
      " [0 1 1 1 0 1]\n",
      " [0 1 1 1 1 0]\n",
      " [0 1 1 1 1 1]\n",
      " [1 0 0 0 0 0]\n",
      " [1 0 0 0 0 1]\n",
      " [1 0 0 0 1 0]\n",
      " [1 0 0 0 1 1]\n",
      " [1 0 0 1 0 0]\n",
      " [1 0 0 1 0 1]\n",
      " [1 0 0 1 1 0]\n",
      " [1 0 0 1 1 1]\n",
      " [1 0 1 0 0 0]\n",
      " [1 0 1 0 0 1]\n",
      " [1 0 1 0 1 0]\n",
      " [1 0 1 0 1 1]\n",
      " [1 0 1 1 0 0]\n",
      " [1 0 1 1 0 1]\n",
      " [1 0 1 1 1 0]\n",
      " [1 0 1 1 1 1]\n",
      " [1 1 0 0 0 0]\n",
      " [1 1 0 0 0 1]\n",
      " [1 1 0 0 1 0]\n",
      " [1 1 0 0 1 1]\n",
      " [1 1 0 1 0 0]\n",
      " [1 1 0 1 0 1]\n",
      " [1 1 0 1 1 0]\n",
      " [1 1 0 1 1 1]\n",
      " [1 1 1 0 0 0]\n",
      " [1 1 1 0 0 1]\n",
      " [1 1 1 0 1 0]\n",
      " [1 1 1 0 1 1]\n",
      " [1 1 1 1 0 0]\n",
      " [1 1 1 1 0 1]\n",
      " [1 1 1 1 1 0]\n",
      " [1 1 1 1 1 1]]\n"
     ]
    }
   ],
   "source": [
    "import itertools\n",
    "\n",
    "dim_V = 6\n",
    "dim_H = 5\n",
    "\n",
    "X_domain = np.r_[[i for i in itertools.product([0,1], repeat=dim_V)]]\n",
    "print(\"All possible input values\")\n",
    "print(X_domain)"
   ]
  },
  {
   "cell_type": "code",
   "execution_count": 4,
   "metadata": {},
   "outputs": [],
   "source": [
    "def free_energy(v,c,b,W):\n",
    "    v = v.reshape(-1, v.shape[-1])\n",
    "    return - v.dot(c)- np.logaddexp(0, v.dot(W.T) + b).sum(axis=1)"
   ]
  },
  {
   "cell_type": "code",
   "execution_count": 5,
   "metadata": {},
   "outputs": [],
   "source": [
    "def plot_free_energy(X_domain, X_train, c,b,W):\n",
    "    plt.figure(figsize=(20,3))\n",
    "    energies = free_energy(X_domain, c, b ,W)\n",
    "    plt.bar(list(range(len(energies))), energies, 0.4, label=\"full domain\", alpha=.5)\n",
    "    plt.xticks(list(range(len(X_domain))), [str(i) for i in X_domain], rotation=\"vertical\");\n",
    "\n",
    "    X_idxs = np.r_[[np.sum(i == X_domain, axis=1)==X_domain.shape[1] for i in X_train]].T.sum(axis=1).astype(bool)\n",
    "\n",
    "    plt.bar(np.arange(len(X_domain))[X_idxs], energies[X_idxs], .9, label=\"train data\")\n",
    "    plt.ylabel(\"free energy\")\n",
    "    plt.legend();"
   ]
  },
  {
   "cell_type": "markdown",
   "metadata": {},
   "source": [
    "### we create a random (not trained) set of weights and biases for our RBM"
   ]
  },
  {
   "cell_type": "code",
   "execution_count": 6,
   "metadata": {},
   "outputs": [],
   "source": [
    "rc = np.random.normal(size=dim_V)\n",
    "rb = np.random.normal(size=dim_H)\n",
    "rW = np.random.normal(size=(dim_H,dim_V))"
   ]
  },
  {
   "cell_type": "markdown",
   "metadata": {},
   "source": [
    "### and select a set of training data that <font color=\"red\">contain some pattern<font>\n",
    "\n",
    "for instance that they are consecutive"
   ]
  },
  {
   "cell_type": "code",
   "execution_count": 7,
   "metadata": {},
   "outputs": [
    {
     "data": {
      "text/plain": [
       "array([[0, 0, 0, 1, 1, 0],\n",
       "       [0, 0, 0, 1, 1, 1],\n",
       "       [0, 0, 1, 0, 0, 0],\n",
       "       [0, 0, 1, 0, 0, 1],\n",
       "       [0, 0, 1, 0, 1, 0],\n",
       "       [0, 0, 1, 0, 1, 1],\n",
       "       [0, 0, 1, 1, 0, 0],\n",
       "       [0, 0, 1, 1, 0, 1],\n",
       "       [0, 0, 1, 1, 1, 0],\n",
       "       [0, 0, 1, 1, 1, 1]])"
      ]
     },
     "execution_count": 7,
     "metadata": {},
     "output_type": "execute_result"
    }
   ],
   "source": [
    "k = np.random.randint(len(X_domain)-10)\n",
    "X_train = X_domain[k:k+10]\n",
    "X_rest  = np.r_[[i for i in X_domain if np.sum([np.allclose(i,j) for j in X_train])==0]]\n",
    "X_train"
   ]
  },
  {
   "cell_type": "code",
   "execution_count": 8,
   "metadata": {},
   "outputs": [
    {
     "data": {
      "text/plain": [
       "(54, 10)"
      ]
     },
     "execution_count": 8,
     "metadata": {},
     "output_type": "execute_result"
    }
   ],
   "source": [
    "len(X_rest), len(X_train)"
   ]
  },
  {
   "cell_type": "markdown",
   "metadata": {},
   "source": [
    "### observe the free energy assigned by the random weights to our data\n",
    "\n",
    "including the train data just selected"
   ]
  },
  {
   "cell_type": "code",
   "execution_count": 9,
   "metadata": {},
   "outputs": [
    {
     "data": {
      "image/png": "[encoded data removed]",
      "text/plain": [
       "<Figure size 1440x216 with 1 Axes>"
      ]
     },
     "metadata": {
      "needs_background": "light"
     },
     "output_type": "display_data"
    }
   ],
   "source": [
    "plot_free_energy(X_domain, X_train, rc, rb, rW)"
   ]
  },
  {
   "cell_type": "markdown",
   "metadata": {},
   "source": [
    "### observe how, after training, our training data has less energy (more probability)\n",
    "\n",
    "$\\Rightarrow$ the training process has created a probability distribution where our training data is more probable than the rest\n",
    "\n",
    "$\\Rightarrow$ additionally, pdata elements with atterns similar to training data (although not part of the selected train set) also receive large probability. The RBM is **generalizing**.\n",
    "\n"
   ]
  },
  {
   "cell_type": "code",
   "execution_count": 10,
   "metadata": {},
   "outputs": [],
   "source": [
    "from sklearn.neural_network import BernoulliRBM\n",
    "\n",
    "rbm = BernoulliRBM(n_components=dim_H, batch_size=1, learning_rate=.01,n_iter=1000, random_state=None, verbose=0)\n",
    "rbm.fit(X_train);\n",
    "c, b, W = rbm.intercept_visible_, rbm.intercept_hidden_, rbm.components_"
   ]
  },
  {
   "cell_type": "code",
   "execution_count": 11,
   "metadata": {},
   "outputs": [
    {
     "data": {
      "image/png": "[encoded data removed]",
      "text/plain": [
       "<Figure size 1440x216 with 1 Axes>"
      ]
     },
     "metadata": {
      "needs_background": "light"
     },
     "output_type": "display_data"
    }
   ],
   "source": [
    "plot_free_energy(X_domain, X_train, c, b, W)"
   ]
  },
  {
   "cell_type": "markdown",
   "metadata": {},
   "source": [
    "### Given a set of RBM params we measure the ratio between the free energy of train data and the rest\n",
    "\n",
    "\n",
    "$$r\\mathcal{F} = \\frac{\\mathcal{F}(\\mathbf{X_{train}})}{\\mathcal{F}(\\mathbf{X_{rest}})} $$\n",
    "\n",
    "where $\\mathbf{v} \\in \\mathbf{X_{rest}}$ **iff** $\\mathbf{v} \\notin \\mathbf{X_{train}}$"
   ]
  },
  {
   "cell_type": "code",
   "execution_count": 12,
   "metadata": {},
   "outputs": [],
   "source": [
    "def rF(X_train, X_rest, c,b,W):\n",
    "    return np.mean(free_energy(X_train, c, b, W)) / np.mean(free_energy(X_rest, c, b, W))"
   ]
  },
  {
   "cell_type": "markdown",
   "metadata": {},
   "source": [
    "observe how $r\\mathcal{F}$ increases after training quantifying what we just illustrated graphically"
   ]
  },
  {
   "cell_type": "code",
   "execution_count": 13,
   "metadata": {},
   "outputs": [
    {
     "name": "stdout",
     "output_type": "stream",
     "text": [
      "rF (random params)  = 1.831\n",
      "rF (after training) = 88.407\n"
     ]
    }
   ],
   "source": [
    "print(\"rF (random params)  = %.3f\"%rF(X_train, X_rest, rc, rb, rW))\n",
    "print(\"rF (after training) = %.3f\"%rF(X_train, X_rest, c, b, W))"
   ]
  },
  {
   "cell_type": "markdown",
   "metadata": {},
   "source": [
    "### observe what happens if our training data does not contain any noticeable pattern\n",
    "\n",
    "we select it randombly"
   ]
  },
  {
   "cell_type": "code",
   "execution_count": 14,
   "metadata": {},
   "outputs": [
    {
     "data": {
      "text/plain": [
       "array([[1, 0, 0, 0, 1, 0],\n",
       "       [0, 1, 1, 0, 0, 0],\n",
       "       [1, 0, 1, 0, 0, 0],\n",
       "       [0, 1, 1, 1, 1, 1],\n",
       "       [0, 0, 0, 0, 1, 0],\n",
       "       [0, 0, 0, 0, 0, 0],\n",
       "       [1, 1, 1, 1, 0, 0],\n",
       "       [1, 1, 1, 0, 1, 0],\n",
       "       [1, 1, 1, 1, 0, 1],\n",
       "       [1, 0, 1, 1, 0, 0]])"
      ]
     },
     "execution_count": 14,
     "metadata": {},
     "output_type": "execute_result"
    }
   ],
   "source": [
    "X_train = np.random.permutation(X_domain)[:10]\n",
    "X_rest  = np.r_[[i for i in X_domain if np.sum([np.allclose(i,j) for j in X_train])==0]]\n",
    "X_train"
   ]
  },
  {
   "cell_type": "markdown",
   "metadata": {},
   "source": [
    "**energy with random parameters**"
   ]
  },
  {
   "cell_type": "code",
   "execution_count": 15,
   "metadata": {},
   "outputs": [
    {
     "data": {
      "image/png": "[encoded data removed]",
      "text/plain": [
       "<Figure size 1440x216 with 1 Axes>"
      ]
     },
     "metadata": {
      "needs_background": "light"
     },
     "output_type": "display_data"
    }
   ],
   "source": [
    "plot_free_energy(X_domain, X_train, rc, rb, rW)"
   ]
  },
  {
   "cell_type": "markdown",
   "metadata": {},
   "source": [
    "**energy after training**"
   ]
  },
  {
   "cell_type": "code",
   "execution_count": 16,
   "metadata": {},
   "outputs": [
    {
     "data": {
      "image/png": "[encoded data removed]",
      "text/plain": [
       "<Figure size 1440x216 with 1 Axes>"
      ]
     },
     "metadata": {
      "needs_background": "light"
     },
     "output_type": "display_data"
    }
   ],
   "source": [
    "rbm = BernoulliRBM(n_components=3, batch_size=1, learning_rate=.01,n_iter=1000, random_state=None, verbose=0)\n",
    "rbm.fit(X_train);\n",
    "c, b, W = rbm.intercept_visible_, rbm.intercept_hidden_, rbm.components_\n",
    "plot_free_energy(X_domain, X_train, c, b, W)"
   ]
  },
  {
   "cell_type": "markdown",
   "metadata": {},
   "source": [
    "**free energy ratio**"
   ]
  },
  {
   "cell_type": "code",
   "execution_count": 17,
   "metadata": {},
   "outputs": [
    {
     "name": "stdout",
     "output_type": "stream",
     "text": [
      "rF (random params)  = 0.978\n",
      "rF (after training) = 1.735\n"
     ]
    }
   ],
   "source": [
    "print(\"rF (random params)  = %.3f\"%rF(X_train, X_rest, rc, rb, rW))\n",
    "print(\"rF (after training) = %.3f\"%rF(X_train, X_rest, c, b, W))"
   ]
  },
  {
   "cell_type": "markdown",
   "metadata": {},
   "source": [
    "### the RBM still tries to make training data more probable!!! (less free energy)\n"
   ]
  },
  {
   "cell_type": "markdown",
   "metadata": {},
   "source": [
    "## Let's go back to the pattern example\n",
    "\n",
    "We now build patterns with the modulus operator, observe that with prime modulus (i.e `pattern_modulus=7` ) the RBM has a hard time obtaining a disitribution that separates the training data. Play with RBM params (`n_iter, learning_rate, n_components, batch_size`)"
   ]
  },
  {
   "cell_type": "code",
   "execution_count": 18,
   "metadata": {},
   "outputs": [],
   "source": [
    "dim_H = 2\n",
    "\n",
    "pattern_modulus = 7\n",
    "\n",
    "X_train = X_domain[[np.sum(i*(2**np.arange(len(i))[::-1]))%pattern_modulus==0 for i in X_domain]]"
   ]
  },
  {
   "cell_type": "code",
   "execution_count": 19,
   "metadata": {},
   "outputs": [
    {
     "data": {
      "image/png": "[encoded data removed]",
      "text/plain": [
       "<Figure size 1440x216 with 1 Axes>"
      ]
     },
     "metadata": {
      "needs_background": "light"
     },
     "output_type": "display_data"
    }
   ],
   "source": [
    "rbm = BernoulliRBM(n_components=dim_H, batch_size=1, learning_rate=.1,n_iter=100, random_state=None, verbose=0)\n",
    "rbm.fit(X_train);\n",
    "c, b, W = rbm.intercept_visible_, rbm.intercept_hidden_, rbm.components_\n",
    "plot_free_energy(X_domain, X_train, c, b, W)"
   ]
  },
  {
   "cell_type": "markdown",
   "metadata": {},
   "source": [
    "however, with powers of two, the RBM easily builds the distribution."
   ]
  },
  {
   "cell_type": "code",
   "execution_count": 20,
   "metadata": {},
   "outputs": [
    {
     "data": {
      "image/png": "[encoded data removed]",
      "text/plain": [
       "<Figure size 1440x216 with 1 Axes>"
      ]
     },
     "metadata": {
      "needs_background": "light"
     },
     "output_type": "display_data"
    }
   ],
   "source": [
    "pattern_modulus = 8\n",
    "pattern_shift   = 0\n",
    "X_train = X_domain[[np.sum(i*(2**np.arange(len(i))[::-1]))%pattern_modulus==pattern_shift for i in X_domain]]\n",
    "\n",
    "rbm = BernoulliRBM(n_components=dim_H, batch_size=1, learning_rate=.1,n_iter=100, random_state=None, verbose=0)\n",
    "rbm.fit(X_train);\n",
    "c, b, W = rbm.intercept_visible_, rbm.intercept_hidden_, rbm.components_\n",
    "plot_free_energy(X_domain, X_train, c, b, W)"
   ]
  },
  {
   "cell_type": "markdown",
   "metadata": {},
   "source": [
    "### we can sample from the distribution created for different values of H\n",
    "\n",
    "We are now **generating input data!!!**. For instance, when h=[0,0], we are asking the RBM: _generate input vectors sampling from the learnt distribution when h=[0,0]_, this is, sample from:\n",
    "\n",
    "$$P(v|h=[0,0])$$\n",
    "\n",
    "\n",
    "In the code below, for each value of $h$ we generate 100 input samples and show the average number of times each input neuron was activated across the samples generated.\n",
    "\n",
    "Observe the distributions of the active neurons of the inputs generated.\n",
    "\n",
    "- with `pattern_modulus = 8`, `pattern_shift = 0`, the input patterns emerging is `[1,1,1,0,0,0]`\n",
    "- with `pattern_modulus = 8`, `pattern_shift = 1`, the input patterns emerging is `[1,1,1,0,0,1]`\n",
    "- with `pattern_modulus = 8`, `pattern_shift = 2`, the input patterns emerging is `[1,1,1,0,1,0]`\n",
    "- with `pattern_modulus = 16`, `pattern_shift = 2`, the input patterns emerging is `[1,1,0,0,1,0]`\n",
    "\n"
   ]
  },
  {
   "cell_type": "code",
   "execution_count": 21,
   "metadata": {},
   "outputs": [],
   "source": [
    "def plot_h_distrib(rbm, h):\n",
    "    k = rbm._sample_visibles(np.r_[[h]*100], np.random.RandomState(np.random.randint(100))).mean(axis=0)\n",
    "    plt.bar(list(range(len(k))), k)\n",
    "    plt.xlabel(\"activation for input neurons\")\n",
    "    plt.ylabel(\"probability, $P(v|h)$\")\n",
    "    plt.title(\"hidden patern h=%s\"%(str(h)))"
   ]
  },
  {
   "cell_type": "code",
   "execution_count": 22,
   "metadata": {
    "scrolled": true
   },
   "outputs": [
    {
     "data": {
      "image/png": "[encoded data removed]",
      "text/plain": [
       "<Figure size 1440x216 with 4 Axes>"
      ]
     },
     "metadata": {
      "needs_background": "light"
     },
     "output_type": "display_data"
    }
   ],
   "source": [
    "plt.figure(figsize=(20,3))\n",
    "for i, h in enumerate([[0,0], [0,1], [1,0], [1,1]]):\n",
    "    plt.subplot(1,4,i+1)\n",
    "    plot_h_distrib(rbm, h)"
   ]
  },
  {
   "cell_type": "code",
   "execution_count": null,
   "metadata": {},
   "outputs": [],
   "source": []
  }
 ],
 "metadata": {
  "kernelspec": {
   "display_name": "p37",
   "language": "python",
   "name": "python3"
  },
  "language_info": {
   "codemirror_mode": {
    "name": "ipython",
    "version": 3
   },
   "file_extension": ".py",
   "mimetype": "text/x-python",
   "name": "python",
   "nbconvert_exporter": "python",
   "pygments_lexer": "ipython3",
   "version": "3.7.3"
  }
 },
 "nbformat": 4,
 "nbformat_minor": 2
}
