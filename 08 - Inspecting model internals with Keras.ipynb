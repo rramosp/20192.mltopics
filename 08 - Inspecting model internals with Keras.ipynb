{
 "cells": [
  {
   "cell_type": "code",
   "execution_count": 1,
   "metadata": {},
   "outputs": [],
   "source": [
    "import numpy as np\n",
    "import matplotlib.pyplot as plt\n",
    "import pandas as pd\n",
    "from tensorflow import keras\n",
    "\n",
    "%matplotlib inline"
   ]
  },
  {
   "cell_type": "markdown",
   "metadata": {},
   "source": [
    "# load data and train a simple model"
   ]
  },
  {
   "cell_type": "code",
   "execution_count": 2,
   "metadata": {},
   "outputs": [
    {
     "name": "stdout",
     "output_type": "stream",
     "text": [
      "dimension de las imagenes y las clases (1500, 784) (1500,)\n",
      "(1200, 784) (1200, 10)\n"
     ]
    }
   ],
   "source": [
    "mnist = pd.read_csv(\"data/mnist1.5k.csv.gz\", compression=\"gzip\", header=None).values\n",
    "X=mnist[:,1:785]/255.\n",
    "y=mnist[:,0]\n",
    "print (\"dimension de las imagenes y las clases\", X.shape, y.shape)\n",
    "\n",
    "from sklearn.model_selection import train_test_split\n",
    "X_train, X_test, y_train, y_test = train_test_split(X, y, test_size=.2)\n",
    "X_train = X_train\n",
    "X_test  = X_test\n",
    "y_train_oh = np.eye(10)[y_train]\n",
    "y_test_oh  = np.eye(10)[y_test]\n",
    "print (X_train.shape, y_train_oh.shape)"
   ]
  },
  {
   "cell_type": "code",
   "execution_count": 3,
   "metadata": {},
   "outputs": [
    {
     "data": {
      "text/plain": [
       "'1.13.1'"
      ]
     },
     "execution_count": 3,
     "metadata": {},
     "output_type": "execute_result"
    }
   ],
   "source": [
    "from tensorflow.keras import Sequential, Model\n",
    "from tensorflow.keras.layers import Dense, Dropout, Flatten, concatenate, Input\n",
    "from tensorflow.keras.backend import clear_session\n",
    "from tensorflow import keras\n",
    "import tensorflow as tf\n",
    "import tensorflow.keras.backend as K\n",
    "tf.__version__"
   ]
  },
  {
   "cell_type": "code",
   "execution_count": 4,
   "metadata": {},
   "outputs": [],
   "source": [
    "def get_model(input_dim=784, output_dim=10, layer_sizes=[10]*6, activation=\"relu\", sigma=1):\n",
    "    \n",
    "    clear_session()\n",
    "    model = Sequential()\n",
    "\n",
    "    model.add(Dense(layer_sizes[0], activation=activation, input_dim=input_dim, name=\"Layer_%02d_Input\"%(0)))\n",
    "   \n",
    "    for i, hsize in enumerate(layer_sizes[1:]):\n",
    "        model.add(Dense(hsize, activation=activation, name=\"Layer_%02d_Hidden\"%(i+1)))\n",
    "   \n",
    "    model.add(Dense(output_dim, activation=\"softmax\", name=\"Layer_%02d_Output\"%(len(layer_sizes))))\n",
    "        \n",
    "    model.compile(optimizer='adam', loss='categorical_crossentropy', metrics=['accuracy'])\n",
    "    model.reset_states()\n",
    "    return model\n",
    "\n",
    "def get_tensors_and_functions(model):\n",
    "    T_input     = model.input                                        \n",
    "    T_outputs   = [layer.output for layer in model.layers]         \n",
    "    T_weights   = model.trainable_weights\n",
    "    T_gradients = model.optimizer.get_gradients(model.total_loss, T_weights)\n",
    "    F_outputs   = [K.function([T_input, K.learning_phase()], [out]) for out in T_outputs]    \n",
    "    F_gradients = [K.function(inputs=[T_input, model.targets[0],  \n",
    "                                      K.learning_phase()], outputs=[grad]) for grad in T_gradients]\n",
    "\n",
    "    return T_input, T_outputs, T_weights, T_gradients, F_outputs, F_gradients\n",
    "\n",
    "\n",
    "\n"
   ]
  },
  {
   "cell_type": "code",
   "execution_count": 5,
   "metadata": {},
   "outputs": [
    {
     "name": "stdout",
     "output_type": "stream",
     "text": [
      "WARNING:tensorflow:From /home/user/.conda/envs/p37/lib/python3.7/site-packages/tensorflow/python/ops/resource_variable_ops.py:435: colocate_with (from tensorflow.python.framework.ops) is deprecated and will be removed in a future version.\n",
      "Instructions for updating:\n",
      "Colocations handled automatically by placer.\n",
      "_________________________________________________________________\n",
      "Layer (type)                 Output Shape              Param #   \n",
      "=================================================================\n",
      "Layer_00_Input (Dense)       (None, 20)                15700     \n",
      "_________________________________________________________________\n",
      "Layer_01_Hidden (Dense)      (None, 15)                315       \n",
      "_________________________________________________________________\n",
      "Layer_02_Hidden (Dense)      (None, 15)                240       \n",
      "_________________________________________________________________\n",
      "Layer_03_Output (Dense)      (None, 10)                160       \n",
      "=================================================================\n",
      "Total params: 16,415\n",
      "Trainable params: 16,415\n",
      "Non-trainable params: 0\n",
      "_________________________________________________________________\n"
     ]
    }
   ],
   "source": [
    "model = get_model(layer_sizes=[20,15,15], activation=\"sigmoid\", sigma=20)\n",
    "model.summary()"
   ]
  },
  {
   "cell_type": "code",
   "execution_count": 6,
   "metadata": {
    "scrolled": true
   },
   "outputs": [
    {
     "name": "stdout",
     "output_type": "stream",
     "text": [
      "Train on 1200 samples, validate on 300 samples\n",
      "WARNING:tensorflow:From /home/user/.conda/envs/p37/lib/python3.7/site-packages/tensorflow/python/ops/math_ops.py:3066: to_int32 (from tensorflow.python.ops.math_ops) is deprecated and will be removed in a future version.\n",
      "Instructions for updating:\n",
      "Use tf.cast instead.\n",
      "Epoch 1/30\n",
      "1200/1200 [==============================] - 0s 208us/sample - loss: 2.5293 - acc: 0.1000 - val_loss: 2.3443 - val_acc: 0.1233\n",
      "Epoch 2/30\n",
      "1200/1200 [==============================] - 0s 65us/sample - loss: 2.3768 - acc: 0.1000 - val_loss: 2.2754 - val_acc: 0.1233\n",
      "Epoch 3/30\n",
      "1200/1200 [==============================] - 0s 58us/sample - loss: 2.3053 - acc: 0.1000 - val_loss: 2.2337 - val_acc: 0.1233\n",
      "Epoch 4/30\n",
      "1200/1200 [==============================] - 0s 66us/sample - loss: 2.2541 - acc: 0.1000 - val_loss: 2.1952 - val_acc: 0.1233\n",
      "Epoch 5/30\n",
      "1200/1200 [==============================] - 0s 84us/sample - loss: 2.2055 - acc: 0.1592 - val_loss: 2.1466 - val_acc: 0.2167\n",
      "Epoch 6/30\n",
      "1200/1200 [==============================] - 0s 70us/sample - loss: 2.1505 - acc: 0.1692 - val_loss: 2.0904 - val_acc: 0.2533\n",
      "Epoch 7/30\n",
      "1200/1200 [==============================] - 0s 63us/sample - loss: 2.0886 - acc: 0.2450 - val_loss: 2.0289 - val_acc: 0.3067\n",
      "Epoch 8/30\n",
      "1200/1200 [==============================] - 0s 56us/sample - loss: 2.0257 - acc: 0.3150 - val_loss: 1.9659 - val_acc: 0.3200\n",
      "Epoch 9/30\n",
      "1200/1200 [==============================] - 0s 49us/sample - loss: 1.9635 - acc: 0.3325 - val_loss: 1.9071 - val_acc: 0.3433\n",
      "Epoch 10/30\n",
      "1200/1200 [==============================] - 0s 45us/sample - loss: 1.9019 - acc: 0.3567 - val_loss: 1.8489 - val_acc: 0.3733\n",
      "Epoch 11/30\n",
      "1200/1200 [==============================] - 0s 64us/sample - loss: 1.8403 - acc: 0.3667 - val_loss: 1.7924 - val_acc: 0.3767\n",
      "Epoch 12/30\n",
      "1200/1200 [==============================] - 0s 54us/sample - loss: 1.7777 - acc: 0.3775 - val_loss: 1.7354 - val_acc: 0.4067\n",
      "Epoch 13/30\n",
      "1200/1200 [==============================] - 0s 55us/sample - loss: 1.7153 - acc: 0.4267 - val_loss: 1.6767 - val_acc: 0.4200\n",
      "Epoch 14/30\n",
      "1200/1200 [==============================] - 0s 49us/sample - loss: 1.6528 - acc: 0.4342 - val_loss: 1.6208 - val_acc: 0.4267\n",
      "Epoch 15/30\n",
      "1200/1200 [==============================] - 0s 61us/sample - loss: 1.5928 - acc: 0.5100 - val_loss: 1.5702 - val_acc: 0.4700\n",
      "Epoch 16/30\n",
      "1200/1200 [==============================] - 0s 55us/sample - loss: 1.5365 - acc: 0.5500 - val_loss: 1.5207 - val_acc: 0.4933\n",
      "Epoch 17/30\n",
      "1200/1200 [==============================] - 0s 57us/sample - loss: 1.4831 - acc: 0.5700 - val_loss: 1.4746 - val_acc: 0.5500\n",
      "Epoch 18/30\n",
      "1200/1200 [==============================] - 0s 64us/sample - loss: 1.4305 - acc: 0.6400 - val_loss: 1.4343 - val_acc: 0.5833\n",
      "Epoch 19/30\n",
      "1200/1200 [==============================] - 0s 55us/sample - loss: 1.3813 - acc: 0.6675 - val_loss: 1.3934 - val_acc: 0.5900\n",
      "Epoch 20/30\n",
      "1200/1200 [==============================] - 0s 55us/sample - loss: 1.3383 - acc: 0.6900 - val_loss: 1.3551 - val_acc: 0.6167\n",
      "Epoch 21/30\n",
      "1200/1200 [==============================] - 0s 53us/sample - loss: 1.2932 - acc: 0.7158 - val_loss: 1.3211 - val_acc: 0.6200\n",
      "Epoch 22/30\n",
      "1200/1200 [==============================] - 0s 55us/sample - loss: 1.2555 - acc: 0.7167 - val_loss: 1.2897 - val_acc: 0.6033\n",
      "Epoch 23/30\n",
      "1200/1200 [==============================] - 0s 70us/sample - loss: 1.2171 - acc: 0.7333 - val_loss: 1.2599 - val_acc: 0.6500\n",
      "Epoch 24/30\n",
      "1200/1200 [==============================] - 0s 55us/sample - loss: 1.1816 - acc: 0.7408 - val_loss: 1.2315 - val_acc: 0.6400\n",
      "Epoch 25/30\n",
      "1200/1200 [==============================] - 0s 62us/sample - loss: 1.1463 - acc: 0.7292 - val_loss: 1.2103 - val_acc: 0.6333\n",
      "Epoch 26/30\n",
      "1200/1200 [==============================] - 0s 59us/sample - loss: 1.1136 - acc: 0.7475 - val_loss: 1.1830 - val_acc: 0.6667\n",
      "Epoch 27/30\n",
      "1200/1200 [==============================] - 0s 55us/sample - loss: 1.0836 - acc: 0.7475 - val_loss: 1.1562 - val_acc: 0.6533\n",
      "Epoch 28/30\n",
      "1200/1200 [==============================] - 0s 57us/sample - loss: 1.0539 - acc: 0.7725 - val_loss: 1.1375 - val_acc: 0.6600\n",
      "Epoch 29/30\n",
      "1200/1200 [==============================] - 0s 66us/sample - loss: 1.0251 - acc: 0.7733 - val_loss: 1.1171 - val_acc: 0.6633\n",
      "Epoch 30/30\n",
      "1200/1200 [==============================] - 0s 54us/sample - loss: 0.9971 - acc: 0.7708 - val_loss: 1.0934 - val_acc: 0.6533\n"
     ]
    },
    {
     "data": {
      "text/plain": [
       "<tensorflow.python.keras.callbacks.History at 0x7f301e24c278>"
      ]
     },
     "execution_count": 6,
     "metadata": {},
     "output_type": "execute_result"
    }
   ],
   "source": [
    "model.fit(X_train, y_train_oh, epochs=30, batch_size=32, validation_data=(X_test, y_test_oh))\n"
   ]
  },
  {
   "cell_type": "markdown",
   "metadata": {},
   "source": [
    "## we inspect programmatically the model structure with keras\n",
    "\n",
    "### first, we obtain the actual weights resulting from training the model"
   ]
  },
  {
   "cell_type": "code",
   "execution_count": 7,
   "metadata": {},
   "outputs": [
    {
     "name": "stdout",
     "output_type": "stream",
     "text": [
      "Layer 0.weights (784, 20)\n",
      "Layer 0.bias    (20,)\n",
      "Layer 1.weights (20, 15)\n",
      "Layer 1.bias    (15,)\n",
      "Layer 2.weights (15, 15)\n",
      "Layer 2.bias    (15,)\n",
      "Layer 3.weights (15, 10)\n",
      "Layer 3.bias    (10,)\n",
      "[[-0.03443924 -0.00238148  0.01480068 ...  0.0112726  -0.0825302\n",
      "   0.01180405]\n",
      " [ 0.07089245 -0.07286802 -0.07535192 ...  0.01091126  0.04079525\n",
      "   0.06651439]\n",
      " [ 0.07510205 -0.01404362  0.0516184  ...  0.00151736  0.07651143\n",
      "   0.07134171]\n",
      " ...\n",
      " [-0.01438238  0.00559779  0.0227362  ... -0.04969458  0.00553783\n",
      "  -0.04501259]\n",
      " [ 0.01181132  0.05136217 -0.08011606 ...  0.04674883  0.00631781\n",
      "  -0.07835934]\n",
      " [ 0.05129735  0.04655932 -0.08471573 ...  0.02702058 -0.03029588\n",
      "  -0.00102819]]\n"
     ]
    }
   ],
   "source": [
    "mW = model.get_weights()\n",
    "W = [{\"weights\": mW[i], \"bias\": mW[i+1]} for i in range(0,len(mW),2)]\n",
    "for i in range(len(W)):\n",
    "    print (\"Layer %i.weights\"%i, W[i][\"weights\"].shape)\n",
    "    print (\"Layer %i.bias   \"%i, W[i][\"bias\"].shape   )\n",
    "    \n",
    "print (W[0][\"weights\"])"
   ]
  },
  {
   "cell_type": "markdown",
   "metadata": {},
   "source": [
    "### then, we obtain tensors representing:\n",
    "\n",
    "- the input\n",
    "- each layer output\n",
    "- all weights\n",
    "- all gradients\n",
    "\n",
    "### and functions for:\n",
    " - each layer output\n",
    " - gradients at for each layer weights and biases"
   ]
  },
  {
   "cell_type": "code",
   "execution_count": 8,
   "metadata": {},
   "outputs": [],
   "source": [
    "T_input, T_outputs, T_weights, T_gradients, F_outputs, F_gradients = get_tensors_and_functions(model)"
   ]
  },
  {
   "cell_type": "code",
   "execution_count": 9,
   "metadata": {},
   "outputs": [
    {
     "data": {
      "text/plain": [
       "<tf.Tensor 'Layer_00_Input_input:0' shape=(?, 784) dtype=float32>"
      ]
     },
     "execution_count": 9,
     "metadata": {},
     "output_type": "execute_result"
    }
   ],
   "source": [
    "T_input"
   ]
  },
  {
   "cell_type": "code",
   "execution_count": 10,
   "metadata": {},
   "outputs": [
    {
     "data": {
      "text/plain": [
       "[<tf.Tensor 'Layer_00_Input/Sigmoid:0' shape=(?, 20) dtype=float32>,\n",
       " <tf.Tensor 'Layer_01_Hidden/Sigmoid:0' shape=(?, 15) dtype=float32>,\n",
       " <tf.Tensor 'Layer_02_Hidden/Sigmoid:0' shape=(?, 15) dtype=float32>,\n",
       " <tf.Tensor 'Layer_03_Output/Softmax:0' shape=(?, 10) dtype=float32>]"
      ]
     },
     "execution_count": 10,
     "metadata": {},
     "output_type": "execute_result"
    }
   ],
   "source": [
    "T_outputs"
   ]
  },
  {
   "cell_type": "code",
   "execution_count": 11,
   "metadata": {},
   "outputs": [
    {
     "data": {
      "text/plain": [
       "[<tf.Variable 'Layer_00_Input/kernel:0' shape=(784, 20) dtype=float32>,\n",
       " <tf.Variable 'Layer_00_Input/bias:0' shape=(20,) dtype=float32>,\n",
       " <tf.Variable 'Layer_01_Hidden/kernel:0' shape=(20, 15) dtype=float32>,\n",
       " <tf.Variable 'Layer_01_Hidden/bias:0' shape=(15,) dtype=float32>,\n",
       " <tf.Variable 'Layer_02_Hidden/kernel:0' shape=(15, 15) dtype=float32>,\n",
       " <tf.Variable 'Layer_02_Hidden/bias:0' shape=(15,) dtype=float32>,\n",
       " <tf.Variable 'Layer_03_Output/kernel:0' shape=(15, 10) dtype=float32>,\n",
       " <tf.Variable 'Layer_03_Output/bias:0' shape=(10,) dtype=float32>]"
      ]
     },
     "execution_count": 11,
     "metadata": {},
     "output_type": "execute_result"
    }
   ],
   "source": [
    "T_weights"
   ]
  },
  {
   "cell_type": "code",
   "execution_count": 12,
   "metadata": {},
   "outputs": [
    {
     "data": {
      "text/plain": [
       "[<tf.Tensor 'gradients/Layer_00_Input/MatMul_grad/MatMul_1:0' shape=(784, 20) dtype=float32>,\n",
       " <tf.Tensor 'gradients/Layer_00_Input/BiasAdd_grad/BiasAddGrad:0' shape=(20,) dtype=float32>,\n",
       " <tf.Tensor 'gradients/Layer_01_Hidden/MatMul_grad/MatMul_1:0' shape=(20, 15) dtype=float32>,\n",
       " <tf.Tensor 'gradients/Layer_01_Hidden/BiasAdd_grad/BiasAddGrad:0' shape=(15,) dtype=float32>,\n",
       " <tf.Tensor 'gradients/Layer_02_Hidden/MatMul_grad/MatMul_1:0' shape=(15, 15) dtype=float32>,\n",
       " <tf.Tensor 'gradients/Layer_02_Hidden/BiasAdd_grad/BiasAddGrad:0' shape=(15,) dtype=float32>,\n",
       " <tf.Tensor 'gradients/Layer_03_Output/MatMul_grad/MatMul_1:0' shape=(15, 10) dtype=float32>,\n",
       " <tf.Tensor 'gradients/Layer_03_Output/BiasAdd_grad/BiasAddGrad:0' shape=(10,) dtype=float32>]"
      ]
     },
     "execution_count": 12,
     "metadata": {},
     "output_type": "execute_result"
    }
   ],
   "source": [
    "T_gradients"
   ]
  },
  {
   "cell_type": "code",
   "execution_count": 13,
   "metadata": {},
   "outputs": [
    {
     "data": {
      "text/plain": [
       "[<tensorflow.python.keras.backend.GraphExecutionFunction at 0x7f3041c28128>,\n",
       " <tensorflow.python.keras.backend.GraphExecutionFunction at 0x7f301fbd3b00>,\n",
       " <tensorflow.python.keras.backend.GraphExecutionFunction at 0x7f30166baa90>,\n",
       " <tensorflow.python.keras.backend.GraphExecutionFunction at 0x7f301636de48>]"
      ]
     },
     "execution_count": 13,
     "metadata": {},
     "output_type": "execute_result"
    }
   ],
   "source": [
    "F_outputs"
   ]
  },
  {
   "cell_type": "code",
   "execution_count": 14,
   "metadata": {},
   "outputs": [
    {
     "data": {
      "text/plain": [
       "[<tensorflow.python.keras.backend.GraphExecutionFunction at 0x7f301fbd3c18>,\n",
       " <tensorflow.python.keras.backend.GraphExecutionFunction at 0x7f301fbd3f28>,\n",
       " <tensorflow.python.keras.backend.GraphExecutionFunction at 0x7f301fbd3ef0>,\n",
       " <tensorflow.python.keras.backend.GraphExecutionFunction at 0x7f301fbd3eb8>,\n",
       " <tensorflow.python.keras.backend.GraphExecutionFunction at 0x7f301fbd3f98>,\n",
       " <tensorflow.python.keras.backend.GraphExecutionFunction at 0x7f301fbd3fd0>,\n",
       " <tensorflow.python.keras.backend.GraphExecutionFunction at 0x7f301fbd3cf8>,\n",
       " <tensorflow.python.keras.backend.GraphExecutionFunction at 0x7f301fbd3f60>]"
      ]
     },
     "execution_count": 14,
     "metadata": {},
     "output_type": "execute_result"
    }
   ],
   "source": [
    "F_gradients"
   ]
  },
  {
   "cell_type": "markdown",
   "metadata": {},
   "source": [
    "### now we can use the function to compute stuff along the network\n",
    "\n",
    "**the output at input Layer when feeding test data**"
   ]
  },
  {
   "cell_type": "code",
   "execution_count": 15,
   "metadata": {},
   "outputs": [
    {
     "data": {
      "text/plain": [
       "array([[0.03880924, 0.06122208, 0.99341106, ..., 0.9745477 , 0.99470127,\n",
       "        0.00266472],\n",
       "       [0.33530396, 0.9980502 , 0.01646429, ..., 0.9879525 , 0.7460462 ,\n",
       "        0.66868705],\n",
       "       [0.36736047, 0.9858327 , 0.01900828, ..., 0.8312223 , 0.99076086,\n",
       "        0.00531802],\n",
       "       ...,\n",
       "       [0.07552645, 0.9930215 , 0.02449641, ..., 0.9855243 , 0.51385033,\n",
       "        0.39826375],\n",
       "       [0.7581127 , 0.7499939 , 0.17297423, ..., 0.95885646, 0.9167014 ,\n",
       "        0.0892258 ],\n",
       "       [0.4931406 , 0.950323  , 0.13040483, ..., 0.7938317 , 0.852847  ,\n",
       "        0.10235044]], dtype=float32)"
      ]
     },
     "execution_count": 15,
     "metadata": {},
     "output_type": "execute_result"
    }
   ],
   "source": [
    "F_outputs[0]([X_test])[0]"
   ]
  },
  {
   "cell_type": "markdown",
   "metadata": {},
   "source": [
    "and its equivalent if we do the math"
   ]
  },
  {
   "cell_type": "code",
   "execution_count": 16,
   "metadata": {},
   "outputs": [
    {
     "data": {
      "text/plain": [
       "array([[0.03880932, 0.06122206, 0.99341106, ..., 0.97454767, 0.99470121,\n",
       "        0.00266475],\n",
       "       [0.33530419, 0.99805023, 0.01646431, ..., 0.98795249, 0.74604621,\n",
       "        0.66868701],\n",
       "       [0.36736039, 0.98583274, 0.01900827, ..., 0.83122228, 0.99076089,\n",
       "        0.00531796],\n",
       "       ...,\n",
       "       [0.07552647, 0.99302153, 0.02449637, ..., 0.98552431, 0.51385031,\n",
       "        0.3982637 ],\n",
       "       [0.7581127 , 0.74999375, 0.17297422, ..., 0.95885656, 0.91670138,\n",
       "        0.08922584],\n",
       "       [0.49314063, 0.95032298, 0.13040486, ..., 0.79383166, 0.85284695,\n",
       "        0.10235047]])"
      ]
     },
     "execution_count": 16,
     "metadata": {},
     "output_type": "execute_result"
    }
   ],
   "source": [
    "sigm = lambda x: 1./(1.+np.exp(-x))\n",
    "sigm(X_test.dot(W[0][\"weights\"])+W[0][\"bias\"])"
   ]
  },
  {
   "cell_type": "markdown",
   "metadata": {},
   "source": [
    "**the output at layer 0, before the sigmoid**\n",
    "\n",
    "- we need to dig into the computational graph.\n",
    "- `T_outputs[0].op.inputs[0]` points to the input of the sigmoid function, this is $XW+b$."
   ]
  },
  {
   "cell_type": "code",
   "execution_count": 17,
   "metadata": {},
   "outputs": [
    {
     "data": {
      "text/plain": [
       "<tf.Tensor 'Layer_00_Input/BiasAdd:0' shape=(?, 20) dtype=float32>"
      ]
     },
     "execution_count": 17,
     "metadata": {},
     "output_type": "execute_result"
    }
   ],
   "source": [
    "T_outputs[0].op.inputs[0]"
   ]
  },
  {
   "cell_type": "code",
   "execution_count": 18,
   "metadata": {},
   "outputs": [
    {
     "data": {
      "text/plain": [
       "<tf.Tensor 'Layer_00_Input/BiasAdd:0' shape=(?, 20) dtype=float32>"
      ]
     },
     "execution_count": 18,
     "metadata": {},
     "output_type": "execute_result"
    }
   ],
   "source": [
    "T_outputs[2].op.inputs[0].op.inputs[0].op.inputs[0].op.inputs[0].op.inputs[0].op.inputs[0].op.inputs[0]"
   ]
  },
  {
   "cell_type": "code",
   "execution_count": 19,
   "metadata": {},
   "outputs": [
    {
     "data": {
      "text/plain": [
       "array([[-3.2095125 , -2.7300708 ,  5.015752  , ...,  3.6451666 ,\n",
       "         5.2349644 , -5.924978  ],\n",
       "       [-0.6842925 ,  6.238092  , -4.0899596 , ...,  4.4067764 ,\n",
       "         1.0776353 ,  0.7022529 ],\n",
       "       [-0.54355735,  4.242552  , -3.9436903 , ...,  1.5943148 ,\n",
       "         4.6750274 , -5.2313333 ],\n",
       "       ...,\n",
       "       [-2.5047412 ,  4.9579225 , -3.684429  , ...,  4.220703  ,\n",
       "         0.05541544, -0.41270486],\n",
       "       [ 1.1423603 ,  1.0985796 , -1.5646933 , ...,  3.148677  ,\n",
       "         2.3983495 , -2.3231242 ],\n",
       "       [-0.02743932,  2.95126   , -1.897384  , ...,  1.3481787 ,\n",
       "         1.7571069 , -2.1713767 ]], dtype=float32)"
      ]
     },
     "execution_count": 19,
     "metadata": {},
     "output_type": "execute_result"
    }
   ],
   "source": [
    "XW0 = K.function([T_input, K.learning_phase()], [T_outputs[0].op.inputs[0]])\n",
    "XW0([X_test])[0]"
   ]
  },
  {
   "cell_type": "markdown",
   "metadata": {},
   "source": [
    "and doing the math, just to check"
   ]
  },
  {
   "cell_type": "code",
   "execution_count": 20,
   "metadata": {},
   "outputs": [
    {
     "data": {
      "text/plain": [
       "array([[-3.2095123 , -2.73007135,  5.01575198, ...,  3.64516612,\n",
       "         5.23496473, -5.9249778 ],\n",
       "       [-0.68429136,  6.23808995, -4.08995864, ...,  4.40677664,\n",
       "         1.07763524,  0.70225257],\n",
       "       [-0.54355755,  4.24255269, -3.94368999, ...,  1.59431465,\n",
       "         4.67502726, -5.2313332 ],\n",
       "       ...,\n",
       "       [-2.50474125,  4.95792289, -3.68442904, ...,  4.22070317,\n",
       "         0.05541543, -0.41270497],\n",
       "       [ 1.14236015,  1.09857894, -1.56469334, ...,  3.14867691,\n",
       "         2.39834975, -2.32312431],\n",
       "       [-0.02743919,  2.95125952, -1.8973838 , ...,  1.34817843,\n",
       "         1.75710694, -2.17137682]])"
      ]
     },
     "execution_count": 20,
     "metadata": {},
     "output_type": "execute_result"
    }
   ],
   "source": [
    "X_test.dot(W[0][\"weights\"])+W[0][\"bias\"]"
   ]
  },
  {
   "cell_type": "markdown",
   "metadata": {},
   "source": [
    "**the gradients of params at layer 0**\n",
    "\n",
    "observe how we need to feed **both** input and output to the gradients function. Output has to be in one hot encoding."
   ]
  },
  {
   "cell_type": "code",
   "execution_count": 23,
   "metadata": {},
   "outputs": [
    {
     "name": "stdout",
     "output_type": "stream",
     "text": [
      "(784, 20)\n"
     ]
    },
    {
     "data": {
      "text/plain": [
       "array([[0., 0., 0., ..., 0., 0., 0.],\n",
       "       [0., 0., 0., ..., 0., 0., 0.],\n",
       "       [0., 0., 0., ..., 0., 0., 0.],\n",
       "       ...,\n",
       "       [0., 0., 0., ..., 0., 0., 0.],\n",
       "       [0., 0., 0., ..., 0., 0., 0.],\n",
       "       [0., 0., 0., ..., 0., 0., 0.]], dtype=float32)"
      ]
     },
     "execution_count": 23,
     "metadata": {},
     "output_type": "execute_result"
    }
   ],
   "source": [
    "g = F_gradients[0]([X_train, y_train_oh])[0]\n",
    "print (g.shape)\n",
    "g"
   ]
  },
  {
   "cell_type": "markdown",
   "metadata": {},
   "source": [
    "## We now inspect the distributions of weights, outputs and gradients of Layer 0"
   ]
  },
  {
   "cell_type": "code",
   "execution_count": 24,
   "metadata": {},
   "outputs": [],
   "source": [
    "def show_layer0_output():\n",
    "    weights=W[0][\"weights\"]\n",
    "    bias=W[0][\"bias\"]\n",
    "    O = (X_train.dot(weights)+bias).reshape(-1)\n",
    "    S = sigm(O)\n",
    "    plt.figure(figsize=(20,3))\n",
    "    plt.subplot(141)\n",
    "    plt.hist(O, bins=30, density=True);\n",
    "    plt.xlabel(\"$XW_{0}+b_{0}$\")\n",
    "    plt.subplot(142)\n",
    "    plt.hist(S, bins=30, density=True);\n",
    "    plt.xlabel(\"$sigm(XW_0+b_0)$\")\n",
    "    plt.subplot(143)\n",
    "    plt.hist(weights.reshape(-1), bins=30,density=True);\n",
    "    plt.xlabel(\"$W_{0}$\")\n",
    "    plt.subplot(144)\n",
    "    g = F_gradients[0]([X_train, y_train_oh])[0].reshape(-1)\n",
    "    plt.hist(g, bins=30,density=True);\n",
    "    plt.xlabel(\"gradients\")"
   ]
  },
  {
   "cell_type": "code",
   "execution_count": 25,
   "metadata": {},
   "outputs": [
    {
     "data": {
      "image/png": "[encoded data removed]",
      "text/plain": [
       "<Figure size 1440x216 with 4 Axes>"
      ]
     },
     "metadata": {
      "needs_background": "light"
     },
     "output_type": "display_data"
    }
   ],
   "source": [
    "show_layer0_output()"
   ]
  },
  {
   "cell_type": "code",
   "execution_count": null,
   "metadata": {},
   "outputs": [],
   "source": []
  }
 ],
 "metadata": {
  "kernelspec": {
   "display_name": "p37",
   "language": "python",
   "name": "python3"
  },
  "language_info": {
   "codemirror_mode": {
    "name": "ipython",
    "version": 3
   },
   "file_extension": ".py",
   "mimetype": "text/x-python",
   "name": "python",
   "nbconvert_exporter": "python",
   "pygments_lexer": "ipython3",
   "version": "3.7.3"
  }
 },
 "nbformat": 4,
 "nbformat_minor": 2
}
