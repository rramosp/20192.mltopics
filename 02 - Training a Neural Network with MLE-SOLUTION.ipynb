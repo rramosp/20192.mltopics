{
 "cells": [
  {
   "cell_type": "code",
   "execution_count": 1,
   "metadata": {},
   "outputs": [],
   "source": [
    "from scipy import stats\n",
    "import numpy as np\n",
    "import matplotlib.pyplot as plt\n",
    "from sklearn.neighbors import KernelDensity\n",
    "from progressbar import progressbar as pbar\n",
    "from scipy.optimize import minimize\n",
    "\n",
    "%matplotlib inline"
   ]
  },
  {
   "cell_type": "code",
   "execution_count": 2,
   "metadata": {},
   "outputs": [],
   "source": [
    "def plot_kdehist(x, kde_bw=None, kde_label=None, kde_color=\"black\", kde_lw=2, kde_alpha=1, **kwargs):\n",
    "    if len(x)==0:\n",
    "        return\n",
    "    s = np.max([np.std(x),.01])\n",
    "    l = np.max([1, len(x)])\n",
    "    bw = 1.06*s*l**-.2 if kde_bw is None else kde_bw\n",
    "    kd = KernelDensity(bandwidth=bw)\n",
    "    kd.fit(x.reshape(-1,1))\n",
    "    rx = np.linspace(np.min(x),np.max(x),100)\n",
    "    sx = np.exp(kd.score_samples(rx.reshape(-1,1)))\n",
    "    plt.plot(rx,sx, color=kde_color, alpha=kde_alpha, lw=kde_lw, label=kde_label)\n",
    "    plt.hist(x, density=True, **kwargs)\n",
    "\n",
    "    \n",
    "def figure(figsize, gridsize):\n",
    "    plt.figure(figsize=figsize)\n",
    "    for i in range(gridsize[0]*gridsize[1]):\n",
    "        yield i,plt.subplot(*gridsize, i+1)\n",
    "        \n",
    "def sigm(x):\n",
    "    if type(x)==int or type(x)==float and x>100:\n",
    "        x = 100\n",
    "    else:\n",
    "        x[x>100]=100\n",
    "        \n",
    "    return 1/(1+np.exp(-x))"
   ]
  },
  {
   "cell_type": "code",
   "execution_count": 3,
   "metadata": {},
   "outputs": [
    {
     "data": {
      "text/plain": [
       "3.720075976020836e-44"
      ]
     },
     "execution_count": 3,
     "metadata": {},
     "output_type": "execute_result"
    }
   ],
   "source": [
    "np.exp(-100)"
   ]
  },
  {
   "cell_type": "code",
   "execution_count": 4,
   "metadata": {},
   "outputs": [],
   "source": [
    "from sklearn.datasets import make_moons, make_circles"
   ]
  },
  {
   "cell_type": "code",
   "execution_count": 5,
   "metadata": {},
   "outputs": [],
   "source": [
    "X, y = make_moons(200, noise=.3)\n",
    "#X, y = make_circles(400, noise=.1)"
   ]
  },
  {
   "cell_type": "code",
   "execution_count": 6,
   "metadata": {},
   "outputs": [
    {
     "data": {
      "text/plain": [
       "<module 'mlutils.plots' from '/home/rlx/Dropbox/teaching/machine-learning/2019.ref/mlutils/plots.py'>"
      ]
     },
     "execution_count": 6,
     "metadata": {},
     "output_type": "execute_result"
    }
   ],
   "source": [
    "from mlutils import plots\n",
    "from importlib import reload\n",
    "reload(plots)"
   ]
  },
  {
   "cell_type": "code",
   "execution_count": 7,
   "metadata": {},
   "outputs": [
    {
     "data": {
      "text/plain": [
       "(-1.7457727848507576,\n",
       " 2.60287311007838,\n",
       " -1.3398915271729073,\n",
       " 1.8525962376256617)"
      ]
     },
     "execution_count": 7,
     "metadata": {},
     "output_type": "execute_result"
    },
    {
     "data": {
      "image/png": "[encoded data removed]",
      "text/plain": [
       "<Figure size 432x288 with 1 Axes>"
      ]
     },
     "metadata": {
      "needs_background": "light"
     },
     "output_type": "display_data"
    }
   ],
   "source": [
    "plots.plot_2Ddata(X,y)\n",
    "plt.axis(\"equal\")"
   ]
  },
  {
   "cell_type": "code",
   "execution_count": null,
   "metadata": {},
   "outputs": [],
   "source": []
  },
  {
   "cell_type": "code",
   "execution_count": 21,
   "metadata": {},
   "outputs": [],
   "source": [
    "class NN:\n",
    "    def __init__(self, reg=0):\n",
    "        self.colors = [\"red\", \"blue\", \"green\", \"yellow\", \"black\", \"orange\", \"brown\"]\n",
    "\n",
    "        self.W = []\n",
    "        self.b = []\n",
    "        self.activ_funcs = []\n",
    "        self.activations = []\n",
    "        self.outputs     = []\n",
    "        self.reg=0\n",
    "        \n",
    "    def add_layer(self, Wshape, activ_func=None):\n",
    "        assert len(Wshape)==2, \"layer shape must represent 2D array\"\n",
    "        assert len(self.W)==0 or self.W[-1].shape[1]==Wshape[0], \"non matching layer shapes\"\n",
    "        \n",
    "        if activ_func is None:\n",
    "            activ_func = lambda x: 1/(1+np.exp(-x)) # sigmoid\n",
    "                    \n",
    "        self.W.append(np.zeros(Wshape))\n",
    "        self.b.append(np.zeros(Wshape[1]))\n",
    "        self.activations.append(np.zeros(Wshape[1]))\n",
    "        self.outputs.append(np.zeros(Wshape[1]))\n",
    "        self.activ_funcs.append(activ_func)\n",
    "        return self\n",
    "    \n",
    "    def fw(self, X):\n",
    "        for i in range(len(self.W)):\n",
    "            self.activations[i] = X.dot(self.W[i])+self.b[i]\n",
    "            self.outputs[i] = self.activ_funcs[i](self.activations[i])\n",
    "            X = self.outputs[i]\n",
    "            \n",
    "        # output softmax\n",
    "        self.outputs[i] = np.exp(X)/np.sum(np.exp(X), axis=1).reshape(-1,1)\n",
    "        return self.outputs[i]\n",
    "    \n",
    "    def fit(self, X, y, reg=None):\n",
    "        reg = reg or self.reg\n",
    "        \n",
    "        cost = lambda t: -self.unflatten(t).likelihood(X,y) + reg*np.sum(t**2)\n",
    "#        cost = lambda t: self.unflatten(t).mean_accuracy(X,y) + reg*np.sum(t**2)\n",
    "#        cost = lambda t: self.unflatten(t).loss(X,y) + reg*np.sum(t**2)\n",
    "        \n",
    "        r = minimize(cost, self.random_init().flatten())\n",
    "        nn.unflatten(r.x)\n",
    "        return self\n",
    "    \n",
    "    def predict(self, X):\n",
    "        return self.fw(X).argmax(axis=1)\n",
    "\n",
    "    def score(self, X, y):\n",
    "        return np.mean(self.predict(X)==y)\n",
    "    \n",
    "    def likelihood(self, X, y):\n",
    "        return np.sum(np.log((self.fw(X)*np.eye(2)[y]).sum(axis=1)))\n",
    "    \n",
    "    def loss(self, X, y):\n",
    "        return np.mean(nn.fw(X)[:,1]**(1-y)*nn.fw(X)[:,0]**y)\n",
    "            \n",
    "    def mean_accuracy(self, X, y):\n",
    "        return np.mean(nn.fw(X).argmax(axis=1)==y)\n",
    "    \n",
    "    def random_init(self, initializer=None):\n",
    "        if initializer is None:\n",
    "            initializer = lambda layer, size: np.random.normal(size=size)\n",
    "        \n",
    "        self.W = [initializer(l, w.shape) for l,w in enumerate(self.W)]\n",
    "        self.b = [initializer(l, b.shape) for l,b in enumerate(self.b)]\n",
    "        return self\n",
    "\n",
    "    def plot_activations(self, X, layer, y=None):\n",
    "        n = self.W[layer].shape[1]\n",
    "        for i,ax in figure(figsize=(n*3,2), gridsize=(1,n)):\n",
    "            if y is None:\n",
    "                self.fw(X)\n",
    "                plot_kdehist(self.activations[layer][:,i], bins=30, alpha=.5)    \n",
    "            else:\n",
    "                for cn,c in enumerate(np.unique(y)):\n",
    "                    self.fw(X[y==c])\n",
    "                    plot_kdehist(self.activations[layer][:,i], bins=30, alpha=.5, \n",
    "                                 color=self.colors[cn], kde_color=self.colors[cn])    \n",
    "                    \n",
    "            \n",
    "    def plot_outputs(self, X, layer, y=None):\n",
    "        n = self.W[layer].shape[1]\n",
    "        for i,ax in figure(figsize=(n*3,2), gridsize=(1,n)):\n",
    "            if y is None:\n",
    "                self.fw(X)\n",
    "                plot_kdehist(self.outputs[layer][:,i], bins=30, alpha=.5)    \n",
    "            else:\n",
    "                for cn,c in enumerate(np.unique(y)):\n",
    "                    self.fw(X[y==c])                \n",
    "                    plot_kdehist(self.outputs[layer][:,i], bins=30, alpha=.5, \n",
    "                                 color=self.colors[cn], kde_color=self.colors[cn])    \n",
    "                \n",
    "    \n",
    "    def __repr__(self):\n",
    "        return \"layer shapes: \" + \", \".join([str(i.shape) for i in self.W])\n",
    "    \n",
    "    \n",
    "    def flatten(self):\n",
    "        wf = [list(w.flatten()) for w in self.W]\n",
    "        wf = [j for i in wf for j in i]\n",
    "\n",
    "        bf = [list(b.flatten()) for b in self.b]\n",
    "        bf = [j for i in bf for j in i]\n",
    "\n",
    "        return np.r_[wf+bf]\n",
    "\n",
    "    def unflatten(self, f):\n",
    "        i,k=0,0\n",
    "        for i in range(len(self.W)):\n",
    "            l = self.W[i].shape[0]*self.W[i].shape[1]\n",
    "            self.W[i] = f[k:k+l].reshape(self.W[i].shape)\n",
    "            k += l\n",
    "\n",
    "        for i in range(len(self.b)):\n",
    "            l = self.b[i].shape[0]\n",
    "            self.b[i] = f[k:k+l].reshape(self.b[i].shape)\n",
    "            k += l\n",
    "        \n",
    "        return self\n",
    "    \n",
    "    def checksum(self):\n",
    "        return np.sum([i.sum() for i in self.W])+np.sum([i.sum() for i in self.W])\n",
    "    \n",
    "    def __eq__(self, other):\n",
    "        if len(self.W)!=len(other.W) or len(self.b)!=len(other.b):\n",
    "            return False\n",
    "        \n",
    "        return np.alltrue([np.allclose(self.W[i], other.W[i]) for i in range(len(self.W))] + \\\n",
    "                          [np.allclose(self.b[i], other.b[i]) for i in range(len(self.b))] )\n",
    "        \n",
    "    def copy(self):\n",
    "        r = self.__class__()\n",
    "        r.W = [i for i in self.W]\n",
    "        r.b = [i for i in self.b]\n",
    "        r.activ_funcs = [i for i in self.activ_funcs]\n",
    "        r.activations = [np.zeros(i.shape[1]) for i in self.W]\n",
    "        r.outputs = [np.zeros(i.shape[1]) for i in self.W]\n",
    "        return r"
   ]
  },
  {
   "cell_type": "code",
   "execution_count": 22,
   "metadata": {},
   "outputs": [
    {
     "data": {
      "text/plain": [
       "36.91520673808728"
      ]
     },
     "execution_count": 22,
     "metadata": {},
     "output_type": "execute_result"
    }
   ],
   "source": [
    "nn = NN()\n",
    "nn.add_layer((2,8)).add_layer((8,2))\n",
    "nn.random_init(initializer = lambda layer, size: np.random.normal(size=size)*3)\n",
    "nn.checksum()"
   ]
  },
  {
   "cell_type": "code",
   "execution_count": 23,
   "metadata": {},
   "outputs": [
    {
     "data": {
      "text/plain": [
       "array([1, 0, 1, 1, 1, 0, 1, 1, 1, 1, 0, 0, 0, 1, 1, 0, 1, 1, 0, 0, 0, 1,\n",
       "       1, 1, 0, 1, 1, 0, 0, 1, 1, 1, 0, 1, 0, 1, 1, 0, 1, 0, 0, 0, 1, 0,\n",
       "       1, 0, 1, 0, 1, 0, 1, 1, 0, 0, 0, 1, 0, 1, 1, 0, 1, 0, 1, 0, 0, 0,\n",
       "       1, 0, 0, 1, 0, 1, 1, 1, 0, 0, 0, 1, 0, 0, 1, 0, 0, 1, 0, 0, 0, 0,\n",
       "       1, 1, 1, 0, 0, 1, 1, 1, 0, 1, 1, 1, 0, 0, 1, 1, 0, 0, 0, 1, 1, 0,\n",
       "       1, 0, 0, 1, 0, 1, 1, 0, 1, 1, 1, 1, 1, 0, 0, 0, 0, 1, 0, 0, 1, 0,\n",
       "       1, 1, 1, 1, 0, 1, 1, 1, 1, 0, 1, 1, 1, 0, 1, 1, 0, 0, 0, 1, 1, 1,\n",
       "       0, 0, 0, 1, 1, 1, 0, 0, 0, 0, 0, 1, 0, 1, 1, 1, 1, 0, 1, 0, 0, 0,\n",
       "       1, 0, 1, 0, 0, 0, 0, 0, 0, 1, 0, 1, 1, 1, 1, 0, 0, 0, 0, 0, 0, 0,\n",
       "       0, 1])"
      ]
     },
     "execution_count": 23,
     "metadata": {},
     "output_type": "execute_result"
    }
   ],
   "source": [
    "y"
   ]
  },
  {
   "cell_type": "code",
   "execution_count": 24,
   "metadata": {},
   "outputs": [
    {
     "data": {
      "text/plain": [
       "array([[0., 1.],\n",
       "       [1., 0.],\n",
       "       [0., 1.],\n",
       "       [0., 1.],\n",
       "       [0., 1.],\n",
       "       [1., 0.],\n",
       "       [0., 1.],\n",
       "       [0., 1.],\n",
       "       [0., 1.],\n",
       "       [0., 1.],\n",
       "       [1., 0.],\n",
       "       [1., 0.],\n",
       "       [1., 0.],\n",
       "       [0., 1.],\n",
       "       [0., 1.],\n",
       "       [1., 0.],\n",
       "       [0., 1.],\n",
       "       [0., 1.],\n",
       "       [1., 0.],\n",
       "       [1., 0.],\n",
       "       [1., 0.],\n",
       "       [0., 1.],\n",
       "       [0., 1.],\n",
       "       [0., 1.],\n",
       "       [1., 0.],\n",
       "       [0., 1.],\n",
       "       [0., 1.],\n",
       "       [1., 0.],\n",
       "       [1., 0.],\n",
       "       [0., 1.],\n",
       "       [0., 1.],\n",
       "       [0., 1.],\n",
       "       [1., 0.],\n",
       "       [0., 1.],\n",
       "       [1., 0.],\n",
       "       [0., 1.],\n",
       "       [0., 1.],\n",
       "       [1., 0.],\n",
       "       [0., 1.],\n",
       "       [1., 0.],\n",
       "       [1., 0.],\n",
       "       [1., 0.],\n",
       "       [0., 1.],\n",
       "       [1., 0.],\n",
       "       [0., 1.],\n",
       "       [1., 0.],\n",
       "       [0., 1.],\n",
       "       [1., 0.],\n",
       "       [0., 1.],\n",
       "       [1., 0.],\n",
       "       [0., 1.],\n",
       "       [0., 1.],\n",
       "       [1., 0.],\n",
       "       [1., 0.],\n",
       "       [1., 0.],\n",
       "       [0., 1.],\n",
       "       [1., 0.],\n",
       "       [0., 1.],\n",
       "       [0., 1.],\n",
       "       [1., 0.],\n",
       "       [0., 1.],\n",
       "       [1., 0.],\n",
       "       [0., 1.],\n",
       "       [1., 0.],\n",
       "       [1., 0.],\n",
       "       [1., 0.],\n",
       "       [0., 1.],\n",
       "       [1., 0.],\n",
       "       [1., 0.],\n",
       "       [0., 1.],\n",
       "       [1., 0.],\n",
       "       [0., 1.],\n",
       "       [0., 1.],\n",
       "       [0., 1.],\n",
       "       [1., 0.],\n",
       "       [1., 0.],\n",
       "       [1., 0.],\n",
       "       [0., 1.],\n",
       "       [1., 0.],\n",
       "       [1., 0.],\n",
       "       [0., 1.],\n",
       "       [1., 0.],\n",
       "       [1., 0.],\n",
       "       [0., 1.],\n",
       "       [1., 0.],\n",
       "       [1., 0.],\n",
       "       [1., 0.],\n",
       "       [1., 0.],\n",
       "       [0., 1.],\n",
       "       [0., 1.],\n",
       "       [0., 1.],\n",
       "       [1., 0.],\n",
       "       [1., 0.],\n",
       "       [0., 1.],\n",
       "       [0., 1.],\n",
       "       [0., 1.],\n",
       "       [1., 0.],\n",
       "       [0., 1.],\n",
       "       [0., 1.],\n",
       "       [0., 1.],\n",
       "       [1., 0.],\n",
       "       [1., 0.],\n",
       "       [0., 1.],\n",
       "       [0., 1.],\n",
       "       [1., 0.],\n",
       "       [1., 0.],\n",
       "       [1., 0.],\n",
       "       [0., 1.],\n",
       "       [0., 1.],\n",
       "       [1., 0.],\n",
       "       [0., 1.],\n",
       "       [1., 0.],\n",
       "       [1., 0.],\n",
       "       [0., 1.],\n",
       "       [1., 0.],\n",
       "       [0., 1.],\n",
       "       [0., 1.],\n",
       "       [1., 0.],\n",
       "       [0., 1.],\n",
       "       [0., 1.],\n",
       "       [0., 1.],\n",
       "       [0., 1.],\n",
       "       [0., 1.],\n",
       "       [1., 0.],\n",
       "       [1., 0.],\n",
       "       [1., 0.],\n",
       "       [1., 0.],\n",
       "       [0., 1.],\n",
       "       [1., 0.],\n",
       "       [1., 0.],\n",
       "       [0., 1.],\n",
       "       [1., 0.],\n",
       "       [0., 1.],\n",
       "       [0., 1.],\n",
       "       [0., 1.],\n",
       "       [0., 1.],\n",
       "       [1., 0.],\n",
       "       [0., 1.],\n",
       "       [0., 1.],\n",
       "       [0., 1.],\n",
       "       [0., 1.],\n",
       "       [1., 0.],\n",
       "       [0., 1.],\n",
       "       [0., 1.],\n",
       "       [0., 1.],\n",
       "       [1., 0.],\n",
       "       [0., 1.],\n",
       "       [0., 1.],\n",
       "       [1., 0.],\n",
       "       [1., 0.],\n",
       "       [1., 0.],\n",
       "       [0., 1.],\n",
       "       [0., 1.],\n",
       "       [0., 1.],\n",
       "       [1., 0.],\n",
       "       [1., 0.],\n",
       "       [1., 0.],\n",
       "       [0., 1.],\n",
       "       [0., 1.],\n",
       "       [0., 1.],\n",
       "       [1., 0.],\n",
       "       [1., 0.],\n",
       "       [1., 0.],\n",
       "       [1., 0.],\n",
       "       [1., 0.],\n",
       "       [0., 1.],\n",
       "       [1., 0.],\n",
       "       [0., 1.],\n",
       "       [0., 1.],\n",
       "       [0., 1.],\n",
       "       [0., 1.],\n",
       "       [1., 0.],\n",
       "       [0., 1.],\n",
       "       [1., 0.],\n",
       "       [1., 0.],\n",
       "       [1., 0.],\n",
       "       [0., 1.],\n",
       "       [1., 0.],\n",
       "       [0., 1.],\n",
       "       [1., 0.],\n",
       "       [1., 0.],\n",
       "       [1., 0.],\n",
       "       [1., 0.],\n",
       "       [1., 0.],\n",
       "       [1., 0.],\n",
       "       [0., 1.],\n",
       "       [1., 0.],\n",
       "       [0., 1.],\n",
       "       [0., 1.],\n",
       "       [0., 1.],\n",
       "       [0., 1.],\n",
       "       [1., 0.],\n",
       "       [1., 0.],\n",
       "       [1., 0.],\n",
       "       [1., 0.],\n",
       "       [1., 0.],\n",
       "       [1., 0.],\n",
       "       [1., 0.],\n",
       "       [1., 0.],\n",
       "       [0., 1.]])"
      ]
     },
     "execution_count": 24,
     "metadata": {},
     "output_type": "execute_result"
    }
   ],
   "source": [
    "np.eye(2)[y]"
   ]
  },
  {
   "cell_type": "code",
   "execution_count": 25,
   "metadata": {},
   "outputs": [
    {
     "data": {
      "text/plain": [
       "array([[1., 0., 0., 0., 0.],\n",
       "       [1., 0., 0., 0., 0.],\n",
       "       [0., 0., 0., 1., 0.],\n",
       "       [0., 0., 0., 0., 1.],\n",
       "       [0., 0., 0., 0., 1.],\n",
       "       [0., 0., 0., 0., 1.],\n",
       "       [0., 0., 0., 0., 1.],\n",
       "       [0., 0., 0., 0., 1.]])"
      ]
     },
     "execution_count": 25,
     "metadata": {},
     "output_type": "execute_result"
    }
   ],
   "source": [
    "np.eye(5)[[0,0,3,4,4,4,4,4]]"
   ]
  },
  {
   "cell_type": "code",
   "execution_count": null,
   "metadata": {},
   "outputs": [],
   "source": []
  },
  {
   "cell_type": "code",
   "execution_count": null,
   "metadata": {},
   "outputs": [],
   "source": []
  },
  {
   "cell_type": "code",
   "execution_count": 26,
   "metadata": {},
   "outputs": [
    {
     "data": {
      "text/plain": [
       "array([[0.7020474 , 0.2979526 ],\n",
       "       [0.50092566, 0.49907434],\n",
       "       [0.72762182, 0.27237818],\n",
       "       [0.70685897, 0.29314103],\n",
       "       [0.72763662, 0.27236338],\n",
       "       [0.72918532, 0.27081468],\n",
       "       [0.7263208 , 0.2736792 ],\n",
       "       [0.72579291, 0.27420709],\n",
       "       [0.72708007, 0.27291993],\n",
       "       [0.72661846, 0.27338154],\n",
       "       [0.50159668, 0.49840332],\n",
       "       [0.52462418, 0.47537582],\n",
       "       [0.72909055, 0.27090945],\n",
       "       [0.72081432, 0.27918568],\n",
       "       [0.72311655, 0.27688345],\n",
       "       [0.7290771 , 0.2709229 ],\n",
       "       [0.72760876, 0.27239124],\n",
       "       [0.7216116 , 0.2783884 ],\n",
       "       [0.72863971, 0.27136029],\n",
       "       [0.67853099, 0.32146901],\n",
       "       [0.72529743, 0.27470257],\n",
       "       [0.51461696, 0.48538304],\n",
       "       [0.72838797, 0.27161203],\n",
       "       [0.72929782, 0.27070218],\n",
       "       [0.72837789, 0.27162211],\n",
       "       [0.7158103 , 0.2841897 ],\n",
       "       [0.72773253, 0.27226747],\n",
       "       [0.72932441, 0.27067559],\n",
       "       [0.55137893, 0.44862107],\n",
       "       [0.72885042, 0.27114958],\n",
       "       [0.72903244, 0.27096756],\n",
       "       [0.72637989, 0.27362011],\n",
       "       [0.72832105, 0.27167895],\n",
       "       [0.50463804, 0.49536196],\n",
       "       [0.50162425, 0.49837575],\n",
       "       [0.72328709, 0.27671291],\n",
       "       [0.72535677, 0.27464323],\n",
       "       [0.50095183, 0.49904817],\n",
       "       [0.72739694, 0.27260306],\n",
       "       [0.50194539, 0.49805461],\n",
       "       [0.50176096, 0.49823904],\n",
       "       [0.50319817, 0.49680183],\n",
       "       [0.72589392, 0.27410608],\n",
       "       [0.50123414, 0.49876586],\n",
       "       [0.72438605, 0.27561395],\n",
       "       [0.501285  , 0.498715  ],\n",
       "       [0.65511841, 0.34488159],\n",
       "       [0.50107852, 0.49892148],\n",
       "       [0.72628707, 0.27371293],\n",
       "       [0.72919662, 0.27080338],\n",
       "       [0.71508908, 0.28491092],\n",
       "       [0.72689325, 0.27310675],\n",
       "       [0.72906608, 0.27093392],\n",
       "       [0.72007302, 0.27992698],\n",
       "       [0.50021868, 0.49978132],\n",
       "       [0.60086537, 0.39913463],\n",
       "       [0.72923462, 0.27076538],\n",
       "       [0.7032661 , 0.2967339 ],\n",
       "       [0.69010442, 0.30989558],\n",
       "       [0.50830636, 0.49169364],\n",
       "       [0.71886899, 0.28113101],\n",
       "       [0.72901822, 0.27098178],\n",
       "       [0.72477053, 0.27522947],\n",
       "       [0.72847558, 0.27152442],\n",
       "       [0.69039365, 0.30960635],\n",
       "       [0.72894737, 0.27105263],\n",
       "       [0.72643294, 0.27356706],\n",
       "       [0.72803325, 0.27196675],\n",
       "       [0.70719055, 0.29280945],\n",
       "       [0.72787362, 0.27212638],\n",
       "       [0.51017968, 0.48982032],\n",
       "       [0.72434878, 0.27565122],\n",
       "       [0.72729481, 0.27270519],\n",
       "       [0.72443774, 0.27556226],\n",
       "       [0.7286644 , 0.2713356 ],\n",
       "       [0.6833326 , 0.3166674 ],\n",
       "       [0.67656758, 0.32343242],\n",
       "       [0.726585  , 0.273415  ],\n",
       "       [0.7290382 , 0.2709618 ],\n",
       "       [0.50047344, 0.49952656],\n",
       "       [0.72799699, 0.27200301],\n",
       "       [0.72936673, 0.27063327],\n",
       "       [0.72726378, 0.27273622],\n",
       "       [0.7260752 , 0.2739248 ],\n",
       "       [0.72911864, 0.27088136],\n",
       "       [0.50092133, 0.49907867],\n",
       "       [0.50326909, 0.49673091],\n",
       "       [0.50207723, 0.49792277],\n",
       "       [0.72613527, 0.27386473],\n",
       "       [0.72363638, 0.27636362],\n",
       "       [0.72788689, 0.27211311],\n",
       "       [0.50123389, 0.49876611],\n",
       "       [0.50183437, 0.49816563],\n",
       "       [0.72025739, 0.27974261],\n",
       "       [0.72647242, 0.27352758],\n",
       "       [0.72282588, 0.27717412],\n",
       "       [0.72807606, 0.27192394],\n",
       "       [0.72669185, 0.27330815],\n",
       "       [0.72677979, 0.27322021],\n",
       "       [0.7234287 , 0.2765713 ],\n",
       "       [0.72873062, 0.27126938],\n",
       "       [0.59454036, 0.40545964],\n",
       "       [0.64170039, 0.35829961],\n",
       "       [0.72530908, 0.27469092],\n",
       "       [0.72853924, 0.27146076],\n",
       "       [0.50882864, 0.49117136],\n",
       "       [0.50031237, 0.49968763],\n",
       "       [0.72807683, 0.27192317],\n",
       "       [0.6906374 , 0.3093626 ],\n",
       "       [0.72854489, 0.27145511],\n",
       "       [0.72392966, 0.27607034],\n",
       "       [0.50034455, 0.49965545],\n",
       "       [0.5724059 , 0.4275941 ],\n",
       "       [0.72131702, 0.27868298],\n",
       "       [0.50370146, 0.49629854],\n",
       "       [0.72936693, 0.27063307],\n",
       "       [0.72705177, 0.27294823],\n",
       "       [0.72815289, 0.27184711],\n",
       "       [0.72516043, 0.27483957],\n",
       "       [0.7225432 , 0.2774568 ],\n",
       "       [0.72701028, 0.27298972],\n",
       "       [0.72947737, 0.27052263],\n",
       "       [0.72849432, 0.27150568],\n",
       "       [0.5005119 , 0.4994881 ],\n",
       "       [0.61395101, 0.38604899],\n",
       "       [0.63240281, 0.36759719],\n",
       "       [0.58879691, 0.41120309],\n",
       "       [0.71672782, 0.28327218],\n",
       "       [0.51044242, 0.48955758],\n",
       "       [0.50218574, 0.49781426],\n",
       "       [0.72470345, 0.27529655],\n",
       "       [0.50053062, 0.49946938],\n",
       "       [0.64223445, 0.35776555],\n",
       "       [0.51440827, 0.48559173],\n",
       "       [0.72898056, 0.27101944],\n",
       "       [0.72701833, 0.27298167],\n",
       "       [0.50074632, 0.49925368],\n",
       "       [0.71833841, 0.28166159],\n",
       "       [0.72557167, 0.27442833],\n",
       "       [0.72590441, 0.27409559],\n",
       "       [0.72782406, 0.27217594],\n",
       "       [0.50060362, 0.49939638],\n",
       "       [0.71050618, 0.28949382],\n",
       "       [0.72684467, 0.27315533],\n",
       "       [0.72819124, 0.27180876],\n",
       "       [0.50331253, 0.49668747],\n",
       "       [0.72656649, 0.27343351],\n",
       "       [0.72547972, 0.27452028],\n",
       "       [0.50262608, 0.49737392],\n",
       "       [0.51533943, 0.48466057],\n",
       "       [0.50237848, 0.49762152],\n",
       "       [0.72765266, 0.27234734],\n",
       "       [0.72615777, 0.27384223],\n",
       "       [0.71973541, 0.28026459],\n",
       "       [0.7023519 , 0.2976481 ],\n",
       "       [0.72621032, 0.27378968],\n",
       "       [0.72917348, 0.27082652],\n",
       "       [0.72406789, 0.27593211],\n",
       "       [0.72864435, 0.27135565],\n",
       "       [0.72592953, 0.27407047],\n",
       "       [0.72901373, 0.27098627],\n",
       "       [0.72922545, 0.27077455],\n",
       "       [0.50203733, 0.49796267],\n",
       "       [0.50492915, 0.49507085],\n",
       "       [0.52471392, 0.47528608],\n",
       "       [0.72633817, 0.27366183],\n",
       "       [0.72798714, 0.27201286],\n",
       "       [0.72630972, 0.27369028],\n",
       "       [0.72512669, 0.27487331],\n",
       "       [0.56803996, 0.43196004],\n",
       "       [0.72722591, 0.27277409],\n",
       "       [0.61927377, 0.38072623],\n",
       "       [0.7271207 , 0.2728793 ],\n",
       "       [0.5107729 , 0.4892271 ],\n",
       "       [0.72633058, 0.27366942],\n",
       "       [0.50280883, 0.49719117],\n",
       "       [0.7241359 , 0.2758641 ],\n",
       "       [0.57692103, 0.42307897],\n",
       "       [0.67735846, 0.32264154],\n",
       "       [0.72818966, 0.27181034],\n",
       "       [0.50080609, 0.49919391],\n",
       "       [0.51794085, 0.48205915],\n",
       "       [0.72931808, 0.27068192],\n",
       "       [0.50072028, 0.49927972],\n",
       "       [0.68839818, 0.31160182],\n",
       "       [0.72850229, 0.27149771],\n",
       "       [0.72916374, 0.27083626],\n",
       "       [0.71689273, 0.28310727],\n",
       "       [0.72290595, 0.27709405],\n",
       "       [0.53473126, 0.46526874],\n",
       "       [0.69254669, 0.30745331],\n",
       "       [0.72920589, 0.27079411],\n",
       "       [0.70547262, 0.29452738],\n",
       "       [0.71938194, 0.28061806],\n",
       "       [0.71905754, 0.28094246],\n",
       "       [0.72859189, 0.27140811],\n",
       "       [0.50042228, 0.49957772],\n",
       "       [0.50359477, 0.49640523],\n",
       "       [0.72843413, 0.27156587],\n",
       "       [0.72667612, 0.27332388]])"
      ]
     },
     "execution_count": 26,
     "metadata": {},
     "output_type": "execute_result"
    }
   ],
   "source": [
    "nn.fw(X)"
   ]
  },
  {
   "cell_type": "code",
   "execution_count": null,
   "metadata": {},
   "outputs": [],
   "source": []
  },
  {
   "cell_type": "code",
   "execution_count": null,
   "metadata": {},
   "outputs": [],
   "source": []
  },
  {
   "cell_type": "code",
   "execution_count": 31,
   "metadata": {},
   "outputs": [
    {
     "name": "stdout",
     "output_type": "stream",
     "text": [
      "0.93\n"
     ]
    }
   ],
   "source": [
    "nn.fit(X,y, reg=.01)\n",
    "print (nn.score(X,y))"
   ]
  },
  {
   "cell_type": "code",
   "execution_count": null,
   "metadata": {},
   "outputs": [],
   "source": []
  },
  {
   "cell_type": "code",
   "execution_count": null,
   "metadata": {},
   "outputs": [],
   "source": []
  },
  {
   "cell_type": "code",
   "execution_count": null,
   "metadata": {},
   "outputs": [],
   "source": []
  },
  {
   "cell_type": "code",
   "execution_count": 32,
   "metadata": {},
   "outputs": [],
   "source": [
    "import itertools\n",
    "import seaborn as sns"
   ]
  },
  {
   "cell_type": "code",
   "execution_count": 33,
   "metadata": {},
   "outputs": [],
   "source": [
    "sx = np.linspace(np.min(X[:,1])-.2, np.max(X[:,1])+.2, 100)\n",
    "sy = np.linspace(np.min(X[:,0])-.25, np.max(X[:,0])+.25, 100)\n",
    "\n",
    "r0 = np.zeros((len(sx), len(sy)))\n",
    "r1 = np.zeros((len(sx), len(sy)))\n",
    "\n",
    "for ix, iy in itertools.product(range(len(sx)), range(len(sy))):\n",
    "    k = nn.fw(np.r_[[[sy[iy], sx[ix]]]])\n",
    "    r0[ix, iy] = k[0][0]\n",
    "    r1[ix, iy] = k[0][1]    "
   ]
  },
  {
   "cell_type": "code",
   "execution_count": 34,
   "metadata": {},
   "outputs": [
    {
     "data": {
      "image/png": "[encoded data removed]",
      "text/plain": [
       "<Figure size 576x576 with 1 Axes>"
      ]
     },
     "metadata": {
      "needs_background": "light"
     },
     "output_type": "display_data"
    }
   ],
   "source": [
    "plt.figure(figsize=(8,8))\n",
    "plots.plot_2Ddata_with_boundary(nn.predict, X, y,dots_alpha=1, line_alpha=1, line_width=3)\n",
    "plt.contourf(sy,sx,r0, alpha=0.3, cmap=plt.cm.bwr)\n",
    "plt.axis(\"equal\");"
   ]
  },
  {
   "cell_type": "code",
   "execution_count": null,
   "metadata": {},
   "outputs": [],
   "source": []
  },
  {
   "cell_type": "markdown",
   "metadata": {},
   "source": [
    "## layer 1 activations before and after sigmoid"
   ]
  },
  {
   "cell_type": "code",
   "execution_count": 35,
   "metadata": {},
   "outputs": [
    {
     "data": {
      "image/png": "[encoded data removed]",
      "text/plain": [
       "<Figure size 1728x144 with 8 Axes>"
      ]
     },
     "metadata": {
      "needs_background": "light"
     },
     "output_type": "display_data"
    }
   ],
   "source": [
    "nn.plot_activations(X,y=y, layer=0)"
   ]
  },
  {
   "cell_type": "code",
   "execution_count": 36,
   "metadata": {},
   "outputs": [
    {
     "data": {
      "image/png": "[encoded data removed]",
      "text/plain": [
       "<Figure size 1728x144 with 8 Axes>"
      ]
     },
     "metadata": {
      "needs_background": "light"
     },
     "output_type": "display_data"
    }
   ],
   "source": [
    "nn.plot_outputs(X, y=y,layer=0)"
   ]
  },
  {
   "cell_type": "markdown",
   "metadata": {},
   "source": [
    "## layer 2 activations before and after sigmoid"
   ]
  },
  {
   "cell_type": "code",
   "execution_count": 37,
   "metadata": {},
   "outputs": [
    {
     "data": {
      "image/png": "[encoded data removed]",
      "text/plain": [
       "<Figure size 432x144 with 2 Axes>"
      ]
     },
     "metadata": {
      "needs_background": "light"
     },
     "output_type": "display_data"
    }
   ],
   "source": [
    "nn.plot_activations(X, y=y, layer=1)"
   ]
  },
  {
   "cell_type": "code",
   "execution_count": 38,
   "metadata": {},
   "outputs": [
    {
     "data": {
      "image/png": "[encoded data removed]",
      "text/plain": [
       "<Figure size 432x144 with 2 Axes>"
      ]
     },
     "metadata": {
      "needs_background": "light"
     },
     "output_type": "display_data"
    }
   ],
   "source": [
    "nn.plot_outputs(X, y=y, layer=1)"
   ]
  },
  {
   "cell_type": "code",
   "execution_count": null,
   "metadata": {},
   "outputs": [],
   "source": []
  },
  {
   "cell_type": "code",
   "execution_count": null,
   "metadata": {},
   "outputs": [],
   "source": []
  }
 ],
 "metadata": {
  "kernelspec": {
   "display_name": "Python 3",
   "language": "python",
   "name": "python3"
  },
  "language_info": {
   "codemirror_mode": {
    "name": "ipython",
    "version": 3
   },
   "file_extension": ".py",
   "mimetype": "text/x-python",
   "name": "python",
   "nbconvert_exporter": "python",
   "pygments_lexer": "ipython3",
   "version": "3.6.8"
  }
 },
 "nbformat": 4,
 "nbformat_minor": 2
}
