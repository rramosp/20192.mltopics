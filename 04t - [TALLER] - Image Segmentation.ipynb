{
 "cells": [
  {
   "cell_type": "markdown",
   "metadata": {},
   "source": [
    "In this lab you will need to put the DeepLab inference demo to work in our virtual machine environment.\n",
    "\n",
    "Open, run and understand the [Deep Lab Inference Demo @ colab](https://colab.sandbox.google.com/github/tensorflow/models/blob/master/research/deeplab/deeplab_demo.ipynb)\n",
    "\n",
    "Duplicate the lab here. You do not need to duplicate the **forms**, use images from an **IMAGE URL**."
   ]
  },
  {
   "cell_type": "code",
   "execution_count": null,
   "metadata": {},
   "outputs": [],
   "source": [
    "\n",
    "import os\n",
    "from io import BytesIO\n",
    "import tarfile\n",
    "import tempfile\n",
    "from six.moves import urllib\n",
    "\n",
    "from matplotlib import gridspec\n",
    "from matplotlib import pyplot as plt\n",
    "import numpy as np\n",
    "from PIL import Image\n",
    "\n",
    "import tensorflow as tf"
   ]
  },
  {
   "cell_type": "code",
   "execution_count": null,
   "metadata": {},
   "outputs": [],
   "source": [
    "\n",
    "\n",
    "class DeepLabModel(object):\n",
    "    ...\n",
    "\n",
    "\n",
    "def create_pascal_label_colormap():\n",
    "    ...\n",
    "\n",
    "    \n",
    "def label_to_color_image(label):\n",
    "    ...\n",
    "\n",
    "def vis_segmentation(image, seg_map):\n",
    "    ...\n",
    "\n",
    "\n",
    "..."
   ]
  },
  {
   "cell_type": "code",
   "execution_count": null,
   "metadata": {},
   "outputs": [],
   "source": [
    "MODEL_NAME = 'mobilenetv2_coco_voctrainaug'  # @param ['mobilenetv2_coco_voctrainaug', 'mobilenetv2_coco_voctrainval', 'xception_coco_voctrainaug', 'xception_coco_voctrainval']\n",
    "\n",
    "..."
   ]
  },
  {
   "cell_type": "code",
   "execution_count": null,
   "metadata": {},
   "outputs": [],
   "source": [
    "#@title Run on sample images {display-mode: \"form\"}\n",
    "\n",
    "IMAGE_URL = ...\n",
    "\n",
    "_SAMPLE_URL = ('https://github.com/tensorflow/models/blob/master/research/'\n",
    "               'deeplab/g3doc/img/%s.jpg?raw=true')\n",
    "\n",
    "\n",
    "def run_visualization(url):\n",
    "    ...\n",
    "\n",
    "run_visualization(IMAGE_URL)"
   ]
  },
  {
   "cell_type": "code",
   "execution_count": null,
   "metadata": {},
   "outputs": [],
   "source": []
  }
 ],
 "metadata": {
  "kernelspec": {
   "display_name": "p37",
   "language": "python",
   "name": "python3"
  },
  "language_info": {
   "codemirror_mode": {
    "name": "ipython",
    "version": 2
   },
   "file_extension": ".py",
   "mimetype": "text/x-python",
   "name": "python",
   "nbconvert_exporter": "python",
   "pygments_lexer": "ipython2",
   "version": "2.7.15"
  }
 },
 "nbformat": 4,
 "nbformat_minor": 2
}
