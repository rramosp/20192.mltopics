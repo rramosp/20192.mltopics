{
 "cells": [
  {
   "cell_type": "code",
   "execution_count": 1,
   "metadata": {},
   "outputs": [],
   "source": [
    "import numpy as np\n",
    "import matplotlib.pyplot as plt\n",
    "import pandas as pd\n",
    "from tensorflow import keras\n",
    "\n",
    "%matplotlib inline"
   ]
  },
  {
   "cell_type": "markdown",
   "metadata": {},
   "source": [
    "# load data and train a simple model"
   ]
  },
  {
   "cell_type": "code",
   "execution_count": 2,
   "metadata": {},
   "outputs": [
    {
     "name": "stdout",
     "output_type": "stream",
     "text": [
      "dimension de las imagenes y las clases (1500, 784) (1500,)\n",
      "(1200, 784) (1200, 10)\n"
     ]
    }
   ],
   "source": [
    "mnist = pd.read_csv(\"data/mnist1.5k.csv.gz\", compression=\"gzip\", header=None).values\n",
    "X=mnist[:,1:785]/255.\n",
    "y=mnist[:,0]\n",
    "print \"dimension de las imagenes y las clases\", X.shape, y.shape\n",
    "\n",
    "from sklearn.model_selection import train_test_split\n",
    "X_train, X_test, y_train, y_test = train_test_split(X, y, test_size=.2)\n",
    "X_train = X_train\n",
    "X_test  = X_test\n",
    "y_train_oh = np.eye(10)[y_train]\n",
    "y_test_oh  = np.eye(10)[y_test]\n",
    "print X_train.shape, y_train_oh.shape"
   ]
  },
  {
   "cell_type": "code",
   "execution_count": 3,
   "metadata": {},
   "outputs": [],
   "source": [
    "from tensorflow.keras import Sequential, Model\n",
    "from tensorflow.keras.layers import Dense, Dropout, Flatten, concatenate, Input\n",
    "from tensorflow.keras.backend import clear_session\n",
    "from tensorflow import keras\n",
    "import tensorflow as tf\n",
    "import tensorflow.keras.backend as K"
   ]
  },
  {
   "cell_type": "code",
   "execution_count": 4,
   "metadata": {},
   "outputs": [],
   "source": [
    "def get_model(input_dim=784, output_dim=10, layer_sizes=[10]*6, activation=\"relu\", sigma=1):\n",
    "    \n",
    "    clear_session()\n",
    "    model = Sequential()\n",
    "\n",
    "    model.add(Dense(layer_sizes[0], activation=activation, input_dim=input_dim, name=\"Layer_%02d_Input\"%(0)))\n",
    "   \n",
    "    for i, hsize in enumerate(layer_sizes[1:]):\n",
    "        model.add(Dense(hsize, activation=activation, name=\"Layer_%02d_Hidden\"%(i+1)))\n",
    "   \n",
    "    model.add(Dense(output_dim, activation=\"softmax\", name=\"Layer_%02d_Output\"%(len(layer_sizes))))\n",
    "        \n",
    "    model.compile(optimizer='adam', loss='categorical_crossentropy', metrics=['accuracy'])\n",
    "    model.reset_states()\n",
    "    return model\n",
    "\n",
    "def get_tensors_and_functions(model):\n",
    "    T_input     = model.input                                        \n",
    "    T_outputs   = [layer.output for layer in model.layers]         \n",
    "    T_weights   = model.trainable_weights\n",
    "    T_gradients = model.optimizer.get_gradients(model.total_loss, T_weights)\n",
    "    F_outputs   = [K.function([T_input, K.learning_phase()], [out]) for out in T_outputs]    \n",
    "    F_gradients = [K.function(inputs=[T_input, model.targets[0],  \n",
    "                                      K.learning_phase()], outputs=[grad]) for grad in T_gradients]\n",
    "\n",
    "    return T_input, T_outputs, T_weights, T_gradients, F_outputs, F_gradients\n",
    "\n",
    "\n",
    "\n"
   ]
  },
  {
   "cell_type": "code",
   "execution_count": 5,
   "metadata": {},
   "outputs": [
    {
     "name": "stdout",
     "output_type": "stream",
     "text": [
      "_________________________________________________________________\n",
      "Layer (type)                 Output Shape              Param #   \n",
      "=================================================================\n",
      "Layer_00_Input (Dense)       (None, 20)                15700     \n",
      "_________________________________________________________________\n",
      "Layer_01_Hidden (Dense)      (None, 15)                315       \n",
      "_________________________________________________________________\n",
      "Layer_02_Hidden (Dense)      (None, 15)                240       \n",
      "_________________________________________________________________\n",
      "Layer_03_Output (Dense)      (None, 10)                160       \n",
      "=================================================================\n",
      "Total params: 16,415\n",
      "Trainable params: 16,415\n",
      "Non-trainable params: 0\n",
      "_________________________________________________________________\n"
     ]
    }
   ],
   "source": [
    "model = get_model(layer_sizes=[20,15,15], activation=\"sigmoid\", sigma=20)\n",
    "model.summary()"
   ]
  },
  {
   "cell_type": "code",
   "execution_count": 6,
   "metadata": {
    "scrolled": true
   },
   "outputs": [
    {
     "name": "stdout",
     "output_type": "stream",
     "text": [
      "Train on 1200 samples, validate on 300 samples\n",
      "Epoch 1/30\n",
      "1200/1200 [==============================] - 0s 246us/step - loss: 2.3124 - acc: 0.1225 - val_loss: 2.2823 - val_acc: 0.1300\n",
      "Epoch 2/30\n",
      "1200/1200 [==============================] - 0s 51us/step - loss: 2.2706 - acc: 0.1225 - val_loss: 2.2532 - val_acc: 0.1300\n",
      "Epoch 3/30\n",
      "1200/1200 [==============================] - 0s 57us/step - loss: 2.2412 - acc: 0.1925 - val_loss: 2.2279 - val_acc: 0.2733\n",
      "Epoch 4/30\n",
      "1200/1200 [==============================] - 0s 55us/step - loss: 2.2110 - acc: 0.2233 - val_loss: 2.1967 - val_acc: 0.2767\n",
      "Epoch 5/30\n",
      "1200/1200 [==============================] - 0s 54us/step - loss: 2.1748 - acc: 0.2758 - val_loss: 2.1598 - val_acc: 0.2967\n",
      "Epoch 6/30\n",
      "1200/1200 [==============================] - 0s 51us/step - loss: 2.1308 - acc: 0.3142 - val_loss: 2.1156 - val_acc: 0.3233\n",
      "Epoch 7/30\n",
      "1200/1200 [==============================] - 0s 54us/step - loss: 2.0798 - acc: 0.3592 - val_loss: 2.0663 - val_acc: 0.3433\n",
      "Epoch 8/30\n",
      "1200/1200 [==============================] - 0s 55us/step - loss: 2.0254 - acc: 0.3458 - val_loss: 2.0116 - val_acc: 0.3467\n",
      "Epoch 9/30\n",
      "1200/1200 [==============================] - 0s 49us/step - loss: 1.9677 - acc: 0.3608 - val_loss: 1.9551 - val_acc: 0.3933\n",
      "Epoch 10/30\n",
      "1200/1200 [==============================] - 0s 51us/step - loss: 1.9094 - acc: 0.3958 - val_loss: 1.9011 - val_acc: 0.4100\n",
      "Epoch 11/30\n",
      "1200/1200 [==============================] - 0s 52us/step - loss: 1.8533 - acc: 0.4167 - val_loss: 1.8465 - val_acc: 0.4400\n",
      "Epoch 12/30\n",
      "1200/1200 [==============================] - 0s 56us/step - loss: 1.7970 - acc: 0.4533 - val_loss: 1.7918 - val_acc: 0.4600\n",
      "Epoch 13/30\n",
      "1200/1200 [==============================] - 0s 52us/step - loss: 1.7406 - acc: 0.4917 - val_loss: 1.7437 - val_acc: 0.4833\n",
      "Epoch 14/30\n",
      "1200/1200 [==============================] - 0s 60us/step - loss: 1.6863 - acc: 0.4983 - val_loss: 1.6934 - val_acc: 0.4967\n",
      "Epoch 15/30\n",
      "1200/1200 [==============================] - 0s 55us/step - loss: 1.6333 - acc: 0.5367 - val_loss: 1.6379 - val_acc: 0.5433\n",
      "Epoch 16/30\n",
      "1200/1200 [==============================] - 0s 64us/step - loss: 1.5799 - acc: 0.5817 - val_loss: 1.5866 - val_acc: 0.6067\n",
      "Epoch 17/30\n",
      "1200/1200 [==============================] - 0s 83us/step - loss: 1.5247 - acc: 0.6242 - val_loss: 1.5395 - val_acc: 0.6200\n",
      "Epoch 18/30\n",
      "1200/1200 [==============================] - 0s 62us/step - loss: 1.4730 - acc: 0.6500 - val_loss: 1.4936 - val_acc: 0.6300\n",
      "Epoch 19/30\n",
      "1200/1200 [==============================] - 0s 59us/step - loss: 1.4204 - acc: 0.6750 - val_loss: 1.4444 - val_acc: 0.6633\n",
      "Epoch 20/30\n",
      "1200/1200 [==============================] - 0s 57us/step - loss: 1.3686 - acc: 0.7067 - val_loss: 1.4018 - val_acc: 0.6867\n",
      "Epoch 21/30\n",
      "1200/1200 [==============================] - 0s 58us/step - loss: 1.3182 - acc: 0.7258 - val_loss: 1.3502 - val_acc: 0.7000\n",
      "Epoch 22/30\n",
      "1200/1200 [==============================] - 0s 60us/step - loss: 1.2701 - acc: 0.7375 - val_loss: 1.3095 - val_acc: 0.7233\n",
      "Epoch 23/30\n",
      "1200/1200 [==============================] - 0s 56us/step - loss: 1.2179 - acc: 0.7658 - val_loss: 1.2634 - val_acc: 0.7367\n",
      "Epoch 24/30\n",
      "1200/1200 [==============================] - 0s 55us/step - loss: 1.1688 - acc: 0.7800 - val_loss: 1.2250 - val_acc: 0.7267\n",
      "Epoch 25/30\n",
      "1200/1200 [==============================] - 0s 63us/step - loss: 1.1217 - acc: 0.7833 - val_loss: 1.1782 - val_acc: 0.7433\n",
      "Epoch 26/30\n",
      "1200/1200 [==============================] - 0s 61us/step - loss: 1.0750 - acc: 0.7908 - val_loss: 1.1423 - val_acc: 0.7367\n",
      "Epoch 27/30\n",
      "1200/1200 [==============================] - 0s 60us/step - loss: 1.0302 - acc: 0.8092 - val_loss: 1.1040 - val_acc: 0.7500\n",
      "Epoch 28/30\n",
      "1200/1200 [==============================] - 0s 66us/step - loss: 0.9874 - acc: 0.8167 - val_loss: 1.0674 - val_acc: 0.7600\n",
      "Epoch 29/30\n",
      "1200/1200 [==============================] - 0s 60us/step - loss: 0.9461 - acc: 0.8217 - val_loss: 1.0349 - val_acc: 0.7500\n",
      "Epoch 30/30\n",
      "1200/1200 [==============================] - 0s 62us/step - loss: 0.9074 - acc: 0.8467 - val_loss: 1.0028 - val_acc: 0.7700\n"
     ]
    },
    {
     "data": {
      "text/plain": [
       "<tensorflow.python.keras.callbacks.History at 0x7fe6238203d0>"
      ]
     },
     "execution_count": 6,
     "metadata": {},
     "output_type": "execute_result"
    }
   ],
   "source": [
    "model.fit(X_train, y_train_oh, epochs=30, batch_size=32, validation_data=(X_test, y_test_oh))\n"
   ]
  },
  {
   "cell_type": "markdown",
   "metadata": {},
   "source": [
    "## we inspect programmatically the model structure with keras\n",
    "\n",
    "### first, we obtain the actual weights resulting from training the model"
   ]
  },
  {
   "cell_type": "code",
   "execution_count": 7,
   "metadata": {},
   "outputs": [
    {
     "name": "stdout",
     "output_type": "stream",
     "text": [
      "Layer 0.weights (784, 20)\n",
      "Layer 0.bias    (20,)\n",
      "Layer 1.weights (20, 15)\n",
      "Layer 1.bias    (15,)\n",
      "Layer 2.weights (15, 15)\n",
      "Layer 2.bias    (15,)\n",
      "Layer 3.weights (15, 10)\n",
      "Layer 3.bias    (10,)\n",
      "[[ 0.0854574  -0.01121411 -0.07872698 ...  0.03293201 -0.07051304\n",
      "  -0.03227102]\n",
      " [-0.02943881 -0.0524538  -0.05883778 ...  0.00605047 -0.07455608\n",
      "   0.0093073 ]\n",
      " [-0.06323884 -0.01824278 -0.04742123 ... -0.03132806  0.03482614\n",
      "  -0.05789207]\n",
      " ...\n",
      " [-0.08065084  0.01609161 -0.03099156 ... -0.07194784 -0.07325022\n",
      "  -0.08259846]\n",
      " [ 0.07844497 -0.06734192 -0.01589244 ... -0.06441855 -0.01728046\n",
      "  -0.07093646]\n",
      " [-0.03380889  0.00098854 -0.00087801 ...  0.07089812  0.00543009\n",
      "   0.08114362]]\n"
     ]
    }
   ],
   "source": [
    "mW = model.get_weights()\n",
    "W = [{\"weights\": mW[i], \"bias\": mW[i+1]} for i in range(0,len(mW),2)]\n",
    "for i in range(len(W)):\n",
    "    print \"Layer %i.weights\"%i, W[i][\"weights\"].shape\n",
    "    print \"Layer %i.bias   \"%i, W[i][\"bias\"].shape   \n",
    "    \n",
    "print W[0][\"weights\"]"
   ]
  },
  {
   "cell_type": "markdown",
   "metadata": {},
   "source": [
    "### then, we obtain tensors representing:\n",
    "\n",
    "- the input\n",
    "- each layer output\n",
    "- all weights\n",
    "- all gradients\n",
    "\n",
    "### and functions for:\n",
    " - each layer output\n",
    " - gradients at for each layer weights and biases"
   ]
  },
  {
   "cell_type": "code",
   "execution_count": 8,
   "metadata": {},
   "outputs": [],
   "source": [
    "T_input, T_outputs, T_weights, T_gradients, F_outputs, F_gradients = get_tensors_and_functions(model)"
   ]
  },
  {
   "cell_type": "code",
   "execution_count": 9,
   "metadata": {},
   "outputs": [
    {
     "data": {
      "text/plain": [
       "<tf.Tensor 'Layer_00_Input_input:0' shape=(?, 784) dtype=float32>"
      ]
     },
     "execution_count": 9,
     "metadata": {},
     "output_type": "execute_result"
    }
   ],
   "source": [
    "T_input"
   ]
  },
  {
   "cell_type": "code",
   "execution_count": 10,
   "metadata": {},
   "outputs": [
    {
     "data": {
      "text/plain": [
       "[<tf.Tensor 'Layer_00_Input/Sigmoid:0' shape=(?, 20) dtype=float32>,\n",
       " <tf.Tensor 'Layer_01_Hidden/Sigmoid:0' shape=(?, 15) dtype=float32>,\n",
       " <tf.Tensor 'Layer_02_Hidden/Sigmoid:0' shape=(?, 15) dtype=float32>,\n",
       " <tf.Tensor 'Layer_03_Output/Softmax:0' shape=(?, 10) dtype=float32>]"
      ]
     },
     "execution_count": 10,
     "metadata": {},
     "output_type": "execute_result"
    }
   ],
   "source": [
    "T_outputs"
   ]
  },
  {
   "cell_type": "code",
   "execution_count": 11,
   "metadata": {},
   "outputs": [
    {
     "data": {
      "text/plain": [
       "[<tf.Variable 'Layer_00_Input/kernel:0' shape=(784, 20) dtype=float32>,\n",
       " <tf.Variable 'Layer_00_Input/bias:0' shape=(20,) dtype=float32>,\n",
       " <tf.Variable 'Layer_01_Hidden/kernel:0' shape=(20, 15) dtype=float32>,\n",
       " <tf.Variable 'Layer_01_Hidden/bias:0' shape=(15,) dtype=float32>,\n",
       " <tf.Variable 'Layer_02_Hidden/kernel:0' shape=(15, 15) dtype=float32>,\n",
       " <tf.Variable 'Layer_02_Hidden/bias:0' shape=(15,) dtype=float32>,\n",
       " <tf.Variable 'Layer_03_Output/kernel:0' shape=(15, 10) dtype=float32>,\n",
       " <tf.Variable 'Layer_03_Output/bias:0' shape=(10,) dtype=float32>]"
      ]
     },
     "execution_count": 11,
     "metadata": {},
     "output_type": "execute_result"
    }
   ],
   "source": [
    "T_weights"
   ]
  },
  {
   "cell_type": "code",
   "execution_count": 12,
   "metadata": {},
   "outputs": [
    {
     "data": {
      "text/plain": [
       "[<tf.Tensor 'gradients/Layer_00_Input/MatMul_grad/MatMul_1:0' shape=(784, 20) dtype=float32>,\n",
       " <tf.Tensor 'gradients/Layer_00_Input/BiasAdd_grad/BiasAddGrad:0' shape=(20,) dtype=float32>,\n",
       " <tf.Tensor 'gradients/Layer_01_Hidden/MatMul_grad/MatMul_1:0' shape=(20, 15) dtype=float32>,\n",
       " <tf.Tensor 'gradients/Layer_01_Hidden/BiasAdd_grad/BiasAddGrad:0' shape=(15,) dtype=float32>,\n",
       " <tf.Tensor 'gradients/Layer_02_Hidden/MatMul_grad/MatMul_1:0' shape=(15, 15) dtype=float32>,\n",
       " <tf.Tensor 'gradients/Layer_02_Hidden/BiasAdd_grad/BiasAddGrad:0' shape=(15,) dtype=float32>,\n",
       " <tf.Tensor 'gradients/Layer_03_Output/MatMul_grad/MatMul_1:0' shape=(15, 10) dtype=float32>,\n",
       " <tf.Tensor 'gradients/Layer_03_Output/BiasAdd_grad/BiasAddGrad:0' shape=(10,) dtype=float32>]"
      ]
     },
     "execution_count": 12,
     "metadata": {},
     "output_type": "execute_result"
    }
   ],
   "source": [
    "T_gradients"
   ]
  },
  {
   "cell_type": "code",
   "execution_count": 13,
   "metadata": {},
   "outputs": [
    {
     "data": {
      "text/plain": [
       "[<tensorflow.python.keras.backend.Function at 0x7fe60839e290>,\n",
       " <tensorflow.python.keras.backend.Function at 0x7fe600e15c90>,\n",
       " <tensorflow.python.keras.backend.Function at 0x7fe600e15dd0>,\n",
       " <tensorflow.python.keras.backend.Function at 0x7fe600e15d10>]"
      ]
     },
     "execution_count": 13,
     "metadata": {},
     "output_type": "execute_result"
    }
   ],
   "source": [
    "F_outputs"
   ]
  },
  {
   "cell_type": "code",
   "execution_count": 14,
   "metadata": {},
   "outputs": [
    {
     "data": {
      "text/plain": [
       "[<tensorflow.python.keras.backend.Function at 0x7fe600e15ed0>,\n",
       " <tensorflow.python.keras.backend.Function at 0x7fe600e15a50>,\n",
       " <tensorflow.python.keras.backend.Function at 0x7fe600e153d0>,\n",
       " <tensorflow.python.keras.backend.Function at 0x7fe600e15d50>,\n",
       " <tensorflow.python.keras.backend.Function at 0x7fe600e15f10>,\n",
       " <tensorflow.python.keras.backend.Function at 0x7fe600e15810>,\n",
       " <tensorflow.python.keras.backend.Function at 0x7fe600e159d0>,\n",
       " <tensorflow.python.keras.backend.Function at 0x7fe600e15e10>]"
      ]
     },
     "execution_count": 14,
     "metadata": {},
     "output_type": "execute_result"
    }
   ],
   "source": [
    "F_gradients"
   ]
  },
  {
   "cell_type": "markdown",
   "metadata": {},
   "source": [
    "### now we can use the function to compute stuff along the network\n",
    "\n",
    "**the output at input Layer when feeding test data**"
   ]
  },
  {
   "cell_type": "code",
   "execution_count": 15,
   "metadata": {},
   "outputs": [
    {
     "data": {
      "text/plain": [
       "array([[9.9925572e-01, 6.8598098e-01, 9.9338442e-01, ..., 9.9206948e-01,\n",
       "        7.9237133e-02, 8.2446670e-05],\n",
       "       [5.6180918e-01, 1.7351142e-01, 9.6524376e-01, ..., 5.3034639e-01,\n",
       "        2.9003173e-01, 9.0523285e-01],\n",
       "       [5.9033161e-01, 4.5797002e-02, 6.0888708e-01, ..., 9.0797287e-01,\n",
       "        4.2905856e-02, 5.7273901e-01],\n",
       "       ...,\n",
       "       [9.5197862e-01, 9.1209847e-01, 9.4509572e-01, ..., 1.9726287e-01,\n",
       "        8.7464845e-01, 2.8903246e-01],\n",
       "       [1.0615108e-01, 4.1520588e-02, 9.8952043e-01, ..., 9.9077904e-01,\n",
       "        8.0399960e-03, 9.8582965e-01],\n",
       "       [9.7455716e-01, 9.2131841e-01, 9.9937457e-01, ..., 1.3440552e-02,\n",
       "        8.4667742e-01, 9.7441065e-01]], dtype=float32)"
      ]
     },
     "execution_count": 15,
     "metadata": {},
     "output_type": "execute_result"
    }
   ],
   "source": [
    "F_outputs[0]([X_test])[0]"
   ]
  },
  {
   "cell_type": "markdown",
   "metadata": {},
   "source": [
    "and its equivalent if we do the math"
   ]
  },
  {
   "cell_type": "code",
   "execution_count": 16,
   "metadata": {},
   "outputs": [
    {
     "data": {
      "text/plain": [
       "array([[9.99255738e-01, 6.85981069e-01, 9.93384412e-01, ...,\n",
       "        9.92069477e-01, 7.92371239e-02, 8.24466345e-05],\n",
       "       [5.61809196e-01, 1.73511400e-01, 9.65243777e-01, ...,\n",
       "        5.30346307e-01, 2.90031727e-01, 9.05232805e-01],\n",
       "       [5.90331607e-01, 4.57970137e-02, 6.08887145e-01, ...,\n",
       "        9.07972914e-01, 4.29058518e-02, 5.72738975e-01],\n",
       "       ...,\n",
       "       [9.51978653e-01, 9.12098440e-01, 9.45095699e-01, ...,\n",
       "        1.97262837e-01, 8.74648457e-01, 2.89032437e-01],\n",
       "       [1.06151024e-01, 4.15205827e-02, 9.89520412e-01, ...,\n",
       "        9.90778996e-01, 8.03999250e-03, 9.85829668e-01],\n",
       "       [9.74557111e-01, 9.21318475e-01, 9.99374585e-01, ...,\n",
       "        1.34405510e-02, 8.46677396e-01, 9.74410686e-01]])"
      ]
     },
     "execution_count": 16,
     "metadata": {},
     "output_type": "execute_result"
    }
   ],
   "source": [
    "sigm = lambda x: 1./(1.+np.exp(-x))\n",
    "sigm(X_test.dot(W[0][\"weights\"])+W[0][\"bias\"])"
   ]
  },
  {
   "cell_type": "markdown",
   "metadata": {},
   "source": [
    "**the output at layer 0, before the sigmoid**\n",
    "\n",
    "- we need to dig into the computational graph.\n",
    "- `T_outputs[0].op.inputs[0]` points to the input of the sigmoid function, this is $XW+b$."
   ]
  },
  {
   "cell_type": "code",
   "execution_count": 17,
   "metadata": {},
   "outputs": [
    {
     "data": {
      "text/plain": [
       "<tf.Tensor 'Layer_00_Input/BiasAdd:0' shape=(?, 20) dtype=float32>"
      ]
     },
     "execution_count": 17,
     "metadata": {},
     "output_type": "execute_result"
    }
   ],
   "source": [
    "T_outputs[0].op.inputs[0]"
   ]
  },
  {
   "cell_type": "code",
   "execution_count": 36,
   "metadata": {},
   "outputs": [
    {
     "data": {
      "text/plain": [
       "<tf.Tensor 'Layer_00_Input/BiasAdd:0' shape=(?, 20) dtype=float32>"
      ]
     },
     "execution_count": 36,
     "metadata": {},
     "output_type": "execute_result"
    }
   ],
   "source": [
    "T_outputs[2].op.inputs[0].op.inputs[0].op.inputs[0].op.inputs[0].op.inputs[0].op.inputs[0].op.inputs[0]"
   ]
  },
  {
   "cell_type": "code",
   "execution_count": 23,
   "metadata": {},
   "outputs": [
    {
     "data": {
      "text/plain": [
       "array([[-5.525766  , -1.2806816 ,  5.7874255 , ..., -6.6928325 ,\n",
       "        -6.759761  , -7.21748   ],\n",
       "       [-2.6858194 , -3.9190145 , -0.2410748 , ...,  2.8822815 ,\n",
       "        -4.4343596 ,  0.34144154],\n",
       "       [ 3.805331  ,  0.03930556, -4.1999183 , ..., -0.15553896,\n",
       "         2.0873923 ,  2.8933284 ],\n",
       "       ...,\n",
       "       [-1.6795448 , -3.4854717 ,  0.26783133, ..., -7.661979  ,\n",
       "        -1.0682076 , -4.7425723 ],\n",
       "       [ 4.2392316 , -3.4454932 , -2.1926055 , ...,  0.2599843 ,\n",
       "        -2.072024  ,  0.7256183 ],\n",
       "       [ 1.2503372 , -2.0729759 ,  3.2294497 , ...,  0.5349731 ,\n",
       "        -0.3932572 , -1.5482113 ]], dtype=float32)"
      ]
     },
     "execution_count": 23,
     "metadata": {},
     "output_type": "execute_result"
    }
   ],
   "source": [
    "XW0 = K.function([T_input, K.learning_phase()], [T_outputs[0].op.inputs[0]])\n",
    "XW0([X_test])[0]"
   ]
  },
  {
   "cell_type": "markdown",
   "metadata": {},
   "source": [
    "and doing the math, just to check"
   ]
  },
  {
   "cell_type": "code",
   "execution_count": 24,
   "metadata": {},
   "outputs": [
    {
     "data": {
      "text/plain": [
       "array([[-5.52576734, -1.28068038,  5.78742667, ..., -6.69283146,\n",
       "        -6.75976061, -7.21747983],\n",
       "       [-2.68582081, -3.91901502, -0.24107492, ...,  2.88228122,\n",
       "        -4.43436037,  0.34144168],\n",
       "       [ 3.80533089,  0.03930536, -4.19991729, ..., -0.15553898,\n",
       "         2.08739207,  2.89332803],\n",
       "       ...,\n",
       "       [-1.67954472, -3.48547067,  0.26783183, ..., -7.66197909,\n",
       "        -1.06820756, -4.74257307],\n",
       "       [ 4.23923166, -3.445493  , -2.19260521, ...,  0.2599845 ,\n",
       "        -2.07202403,  0.72561823],\n",
       "       [ 1.25033728, -2.07297541,  3.22944972, ...,  0.53497253,\n",
       "        -0.39325731, -1.54821119]])"
      ]
     },
     "execution_count": 24,
     "metadata": {},
     "output_type": "execute_result"
    }
   ],
   "source": [
    "X_test.dot(W[0][\"weights\"])+W[0][\"bias\"]"
   ]
  },
  {
   "cell_type": "markdown",
   "metadata": {},
   "source": [
    "**the gradients of params at layer 0**\n",
    "\n",
    "observe how we need to feed **both** input and output to the gradients function. Output has to be in one hot encoding."
   ]
  },
  {
   "cell_type": "code",
   "execution_count": 31,
   "metadata": {},
   "outputs": [
    {
     "name": "stdout",
     "output_type": "stream",
     "text": [
      "(784, 20)\n"
     ]
    },
    {
     "data": {
      "text/plain": [
       "array([[0., 0., 0., ..., 0., 0., 0.],\n",
       "       [0., 0., 0., ..., 0., 0., 0.],\n",
       "       [0., 0., 0., ..., 0., 0., 0.],\n",
       "       ...,\n",
       "       [0., 0., 0., ..., 0., 0., 0.],\n",
       "       [0., 0., 0., ..., 0., 0., 0.],\n",
       "       [0., 0., 0., ..., 0., 0., 0.]], dtype=float32)"
      ]
     },
     "execution_count": 31,
     "metadata": {},
     "output_type": "execute_result"
    }
   ],
   "source": [
    "g = F_gradients[0]([X_train, y_train_oh])[0]\n",
    "print g.shape\n",
    "g"
   ]
  },
  {
   "cell_type": "markdown",
   "metadata": {},
   "source": [
    "## We now inspect the distributions of weights, outputs and gradients of Layer 0"
   ]
  },
  {
   "cell_type": "code",
   "execution_count": 34,
   "metadata": {},
   "outputs": [],
   "source": [
    "def show_layer0_output():\n",
    "    weights=W[0][\"weights\"]\n",
    "    bias=W[0][\"bias\"]\n",
    "    O = (X_train.dot(weights)+bias).reshape(-1)\n",
    "    S = sigm(O)\n",
    "    plt.figure(figsize=(20,3))\n",
    "    plt.subplot(141)\n",
    "    plt.hist(O, bins=30, density=True);\n",
    "    plt.xlabel(\"$XW_{0}+b_{0}$\")\n",
    "    plt.subplot(142)\n",
    "    plt.hist(S, bins=30, density=True);\n",
    "    plt.xlabel(\"$sigm(XW_0+b_0)$\")\n",
    "    plt.subplot(143)\n",
    "    plt.hist(weights.reshape(-1), bins=30,density=True);\n",
    "    plt.xlabel(\"$W_{0}$\")\n",
    "    plt.subplot(144)\n",
    "    g = F_gradients[0]([X_train, y_train_oh])[0].reshape(-1)\n",
    "    plt.hist(g, bins=30,density=True);\n",
    "    plt.xlabel(\"gradients\")"
   ]
  },
  {
   "cell_type": "code",
   "execution_count": 35,
   "metadata": {},
   "outputs": [
    {
     "data": {
      "image/png": "[encoded data removed]",
      "text/plain": [
       "<Figure size 1440x216 with 4 Axes>"
      ]
     },
     "metadata": {},
     "output_type": "display_data"
    }
   ],
   "source": [
    "show_layer0_output()"
   ]
  },
  {
   "cell_type": "code",
   "execution_count": null,
   "metadata": {},
   "outputs": [],
   "source": []
  }
 ],
 "metadata": {
  "kernelspec": {
   "display_name": "Python 2",
   "language": "python",
   "name": "python2"
  },
  "language_info": {
   "codemirror_mode": {
    "name": "ipython",
    "version": 2
   },
   "file_extension": ".py",
   "mimetype": "text/x-python",
   "name": "python",
   "nbconvert_exporter": "python",
   "pygments_lexer": "ipython2",
   "version": "2.7.15rc1"
  }
 },
 "nbformat": 4,
 "nbformat_minor": 2
}
